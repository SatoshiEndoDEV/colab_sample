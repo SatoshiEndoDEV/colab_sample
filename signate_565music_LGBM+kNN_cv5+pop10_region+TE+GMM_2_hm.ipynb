{
  "nbformat": 4,
  "nbformat_minor": 0,
  "metadata": {
    "colab": {
      "name": "signate_565music-LGBM+kNN-cv5+pop10*region+TE+GMM-2-hm.ipynb",
      "provenance": [],
      "collapsed_sections": [],
      "authorship_tag": "ABX9TyM73eEZeH+7u8+njxJ7hytz",
      "include_colab_link": true
    },
    "kernelspec": {
      "name": "python3",
      "display_name": "Python 3"
    },
    "language_info": {
      "name": "python"
    },
    "accelerator": "GPU"
  },
  "cells": [
    {
      "cell_type": "markdown",
      "metadata": {
        "id": "view-in-github",
        "colab_type": "text"
      },
      "source": [
        "<a href=\"https://colab.research.google.com/github/SatoshiEndoDEV/colab_sample/blob/main/signate_565music_LGBM%2BkNN_cv5%2Bpop10_region%2BTE%2BGMM_2_hm.ipynb\" target=\"_parent\"><img src=\"https://colab.research.google.com/assets/colab-badge.svg\" alt=\"Open In Colab\"/></a>"
      ]
    },
    {
      "cell_type": "markdown",
      "source": [
        "LGBM+kNN\n"
      ],
      "metadata": {
        "id": "1OAbcYsp4oOV"
      }
    },
    {
      "cell_type": "markdown",
      "source": [
        "cv5に変更"
      ],
      "metadata": {
        "id": "17YFY1C_e_ZQ"
      }
    },
    {
      "cell_type": "markdown",
      "source": [
        "FE追加\n",
        "* popularityを10の位で分類しなおし、regionとgroupbyして集約特徴量を生成する\n",
        "* 各特徴量を0.1刻みなどに丸めてみる\n"
      ],
      "metadata": {
        "id": "CZl9ANL5hQpP"
      }
    },
    {
      "cell_type": "markdown",
      "source": [
        "CVアンサンブルを調和平均に変更"
      ],
      "metadata": {
        "id": "caynbKGvK4Xm"
      }
    },
    {
      "cell_type": "markdown",
      "source": [
        "target count encodingを追加"
      ],
      "metadata": {
        "id": "qNcAwu1DyfuF"
      }
    },
    {
      "cell_type": "markdown",
      "source": [
        "Gaussian Mixture Model(GMM)を特徴量に追加：kfold内で処理"
      ],
      "metadata": {
        "id": "KjfKSWr7TAKP"
      }
    },
    {
      "cell_type": "markdown",
      "source": [
        "#signate CLI接続"
      ],
      "metadata": {
        "id": "zFdc67S8V7i-"
      }
    },
    {
      "cell_type": "code",
      "execution_count": 1,
      "metadata": {
        "colab": {
          "base_uri": "https://localhost:8080/"
        },
        "id": "kprLSpzXLFkc",
        "outputId": "4ba36417-5491-475d-f79d-dcc0960ada29"
      },
      "outputs": [
        {
          "output_type": "stream",
          "name": "stdout",
          "text": [
            "Drive already mounted at /content/drive; to attempt to forcibly remount, call drive.mount(\"/content/drive\", force_remount=True).\n"
          ]
        }
      ],
      "source": [
        "from google.colab import drive\n",
        "drive.mount('/content/drive')"
      ]
    },
    {
      "cell_type": "code",
      "source": [
        "!pip install signate"
      ],
      "metadata": {
        "colab": {
          "base_uri": "https://localhost:8080/"
        },
        "id": "tNGqPzvpL-e9",
        "outputId": "10ec2192-3f9e-4d82-b68f-f46768dfe32a"
      },
      "execution_count": 2,
      "outputs": [
        {
          "output_type": "stream",
          "name": "stdout",
          "text": [
            "Requirement already satisfied: signate in /usr/local/lib/python3.7/dist-packages (0.9.9)\n",
            "Requirement already satisfied: python-dateutil in /usr/local/lib/python3.7/dist-packages (from signate) (2.8.2)\n",
            "Requirement already satisfied: click in /usr/local/lib/python3.7/dist-packages (from signate) (7.1.2)\n",
            "Requirement already satisfied: certifi in /usr/local/lib/python3.7/dist-packages (from signate) (2021.10.8)\n",
            "Requirement already satisfied: urllib3>=1.26.7 in /usr/local/lib/python3.7/dist-packages (from signate) (1.26.9)\n",
            "Requirement already satisfied: six>=1.16 in /usr/local/lib/python3.7/dist-packages (from signate) (1.16.0)\n",
            "Requirement already satisfied: tabulate in /usr/local/lib/python3.7/dist-packages (from signate) (0.8.9)\n",
            "Requirement already satisfied: wget in /usr/local/lib/python3.7/dist-packages (from signate) (3.2)\n"
          ]
        }
      ]
    },
    {
      "cell_type": "markdown",
      "source": [
        "APIトークンを保存"
      ],
      "metadata": {
        "id": "r4erfRxgSTGf"
      }
    },
    {
      "cell_type": "code",
      "source": [
        "! mkdir -p /root/.signate && cp /content/drive/MyDrive/signate/.signate/signate.json /root/.signate/"
      ],
      "metadata": {
        "id": "BLdihg6OO_PT"
      },
      "execution_count": 3,
      "outputs": []
    },
    {
      "cell_type": "markdown",
      "source": [
        "#ファイルダウンロード"
      ],
      "metadata": {
        "id": "myuuK8y5SO2I"
      }
    },
    {
      "cell_type": "code",
      "source": [
        "! signate download -c 565"
      ],
      "metadata": {
        "colab": {
          "base_uri": "https://localhost:8080/"
        },
        "id": "SIb4wLt2SjYk",
        "outputId": "f1bf1f5d-dab2-452d-cac3-cca707d0fca9"
      },
      "execution_count": 4,
      "outputs": [
        {
          "output_type": "stream",
          "name": "stdout",
          "text": [
            "genre_labels.csv\n",
            "\n",
            "sample_submit.csv\n",
            "\n",
            "test.csv\n",
            "\n",
            "train.csv\n",
            "\n",
            "\u001b[32m\n",
            "Download completed.\u001b[0m\n"
          ]
        }
      ]
    },
    {
      "cell_type": "markdown",
      "source": [
        "#ライブラリ"
      ],
      "metadata": {
        "id": "qKDJDWzHWWLV"
      }
    },
    {
      "cell_type": "code",
      "source": [
        "import numpy as np\n",
        "import pandas as pd\n",
        "from sklearn.preprocessing import StandardScaler, LabelEncoder\n",
        "from sklearn.model_selection import StratifiedKFold\n",
        "from sklearn.neighbors import KNeighborsClassifier\n",
        "from sklearn.metrics import classification_report, f1_score, confusion_matrix\n",
        "import seaborn as sns\n",
        "import lightgbm as lgb\n",
        "import matplotlib.pyplot as plt"
      ],
      "metadata": {
        "id": "YyVSSfUlWVyF"
      },
      "execution_count": 5,
      "outputs": []
    },
    {
      "cell_type": "code",
      "source": [
        "N_CLASSES = 11"
      ],
      "metadata": {
        "id": "T6cKSIeFS2go"
      },
      "execution_count": 6,
      "outputs": []
    },
    {
      "cell_type": "code",
      "source": [
        "df_train = pd.read_csv('/content/train.csv')\n",
        "df_test = pd.read_csv('/content/test.csv')\n",
        "df_sample_sub = pd.read_csv('/content/sample_submit.csv', header=None)\n",
        "df_sample_sub.columns = [\"index\", \"genre\"]\n",
        "df_genre_labels = pd.read_csv('/content/genre_labels.csv')"
      ],
      "metadata": {
        "id": "84fBh00xS2dW"
      },
      "execution_count": 7,
      "outputs": []
    },
    {
      "cell_type": "code",
      "source": [
        "def merge_train_test(df_train, df_test):\n",
        "    if \"genre\" not in df_test.columns.tolist():\n",
        "        df_test[\"genre\"] = -100\n",
        "    res = pd.concat([df_train, df_test])\n",
        "    res.reset_index(inplace=True, drop=True)\n",
        "    return res"
      ],
      "metadata": {
        "id": "dtU1UzO8S2ae"
      },
      "execution_count": 8,
      "outputs": []
    },
    {
      "cell_type": "code",
      "source": [
        "def split_train_test(df):\n",
        "    df_train = df[df[\"genre\"] != -100]\n",
        "    df_test = df[df[\"genre\"] == -100]\n",
        "    df_train.reset_index(inplace=True, drop=True)\n",
        "    df_test.reset_index(inplace=True, drop=True)\n",
        "    return df_train, df_test"
      ],
      "metadata": {
        "id": "_7qEcUk2TNg_"
      },
      "execution_count": 9,
      "outputs": []
    },
    {
      "cell_type": "code",
      "source": [
        "df = merge_train_test(df_train, df_test)"
      ],
      "metadata": {
        "id": "3XujYmmaTNbe"
      },
      "execution_count": 10,
      "outputs": []
    },
    {
      "cell_type": "markdown",
      "source": [
        "#feature engineering"
      ],
      "metadata": {
        "id": "YzsYlb86S2TP"
      }
    },
    {
      "cell_type": "code",
      "source": [
        "df[\"tempo\"] = df[\"tempo\"].map(lambda x: sum(map(int, x.split(\"-\"))) / 2)"
      ],
      "metadata": {
        "id": "hXrVq-UnTa9W"
      },
      "execution_count": 11,
      "outputs": []
    },
    {
      "cell_type": "markdown",
      "source": [
        "欠損値補完"
      ],
      "metadata": {
        "id": "dyPcA9MBV1T0"
      }
    },
    {
      "cell_type": "code",
      "source": [
        "from sklearn.impute import KNNImputer\n",
        "\n",
        "df_na = df.isnull().sum()\n",
        "df_na = df_na[df_na!=0].index.tolist()\n",
        "\n",
        "df_param=KNNImputer().fit_transform(df.loc[:,df_na].copy())\n",
        "df_param = pd.DataFrame(df_param)\n",
        "\n",
        "for i, _ in enumerate(df_na):\n",
        "    df.loc[:,df_na[i]]=df_param[i]"
      ],
      "metadata": {
        "id": "I8-coHTTV00o"
      },
      "execution_count": 12,
      "outputs": []
    },
    {
      "cell_type": "markdown",
      "source": [
        "\n",
        "\n",
        "*   region+popularity10で集約\n",
        "*   特徴項目を0.1刻みに分類\n",
        "\n"
      ],
      "metadata": {
        "id": "b_S5nduCNRmS"
      }
    },
    {
      "cell_type": "code",
      "source": [
        "df['popularity10'] = df['popularity']//10"
      ],
      "metadata": {
        "id": "t6m_2Va5NRFk"
      },
      "execution_count": 13,
      "outputs": []
    },
    {
      "cell_type": "code",
      "source": [
        "origin = ['duration_ms',\n",
        "         'acousticness',\n",
        "         'positiveness',\n",
        "         'danceability',\n",
        "         'loudness',\n",
        "         'energy',\n",
        "         'liveness',\n",
        "         'speechiness',\n",
        "         'instrumentalness',\n",
        "]"
      ],
      "metadata": {
        "id": "guiN8pFUX8dy"
      },
      "execution_count": 14,
      "outputs": []
    },
    {
      "cell_type": "code",
      "source": [
        "for o in origin:\n",
        "    df[f\"{o}_mean\"] = df.groupby([\"region\", \"popularity10\"]).transform(np.mean)[f\"{o}\"]\n",
        "    df[f\"{o}_median\"] = df.groupby([\"region\", \"popularity10\"]).transform(np.median)[f\"{o}\"]\n",
        "    df[f\"{o}_max\"] = df.groupby([\"region\", \"popularity10\"]).transform(np.max)[f\"{o}\"]\n",
        "    df[f\"{o}_min\"] = df.groupby([\"region\", \"popularity10\"]).transform(np.min)[f\"{o}\"]\n",
        "    df[f\"{o}_25\"] = df.groupby([\"region\", \"popularity10\"]).transform(lambda x: np.percentile(x, q=0.25))[f\"{o}\"]\n",
        "    df[f\"{o}_75\"] = df.groupby([\"region\", \"popularity10\"]).transform(lambda x: np.percentile(x, q=0.75))[f\"{o}\"]\n",
        "    df[f\"{o}_zscore\"] = df.groupby([\"region\", \"popularity10\"]).transform(lambda x: (x-np.mean(x))/np.std(x))[f\"{o}\"]"
      ],
      "metadata": {
        "id": "AIfYTanoW8Rp"
      },
      "execution_count": 15,
      "outputs": []
    },
    {
      "cell_type": "code",
      "source": [
        "origin10 = ['duration_ms',\n",
        "         'acousticness',\n",
        "         'positiveness',\n",
        "         'danceability',\n",
        "         'energy',\n",
        "         'liveness',\n",
        "         'speechiness',\n",
        "         'instrumentalness',\n",
        "]"
      ],
      "metadata": {
        "id": "5b-2QgYQf_7P"
      },
      "execution_count": 16,
      "outputs": []
    },
    {
      "cell_type": "code",
      "source": [
        "for o in origin10:\n",
        "    exec(f'df[\"{o+str(10)}\"]=df[\"{o}\"]//0.1')"
      ],
      "metadata": {
        "id": "VUGp9NY8e5cI"
      },
      "execution_count": 17,
      "outputs": []
    },
    {
      "cell_type": "code",
      "source": [
        "df[\"loudness10\"] = round(np.abs(df[\"loudness\"]))"
      ],
      "metadata": {
        "id": "xIzJ5vrvgxUn"
      },
      "execution_count": 18,
      "outputs": []
    },
    {
      "cell_type": "markdown",
      "source": [
        "target count encoding"
      ],
      "metadata": {
        "id": "jreVN70je5Qf"
      }
    },
    {
      "cell_type": "code",
      "source": [
        "#genreでone hot encoding\n",
        "#ohe = pd.get_dummies(df['genre'], prefix='genre')"
      ],
      "metadata": {
        "id": "2oD06fNB7ytj"
      },
      "execution_count": 19,
      "outputs": []
    },
    {
      "cell_type": "code",
      "source": [
        "#genre_-100は使用しないので削除\n",
        "#ohe.drop(['genre_-100'], axis =1, inplace=True)"
      ],
      "metadata": {
        "id": "62fvLu7_8w9j"
      },
      "execution_count": 20,
      "outputs": []
    },
    {
      "cell_type": "code",
      "source": [
        "#df = df.join(ohe)"
      ],
      "metadata": {
        "id": "Tn8CEd1MBbpK"
      },
      "execution_count": 21,
      "outputs": []
    },
    {
      "cell_type": "code",
      "source": [
        "#genre_1 ,,, でカウント\n",
        "#for i in range(11):\n",
        "#    df[f'genre_{i}_tce'] = df.groupby([\"region\", \"popularity10\"]).transform(np.sum)[f'genre_{i}'].astype('int')"
      ],
      "metadata": {
        "id": "fEhPaysi7Fbk"
      },
      "execution_count": 22,
      "outputs": []
    },
    {
      "cell_type": "code",
      "source": [
        "#for j in range(11):\n",
        "#    df.drop([f'genre_{j}'], axis=1, inplace=True)"
      ],
      "metadata": {
        "id": "hHWwVur--Oiz"
      },
      "execution_count": 23,
      "outputs": []
    },
    {
      "cell_type": "markdown",
      "source": [
        "testにもtceが反映されているのでリークかも"
      ],
      "metadata": {
        "id": "HpuPT9nt-L7z"
      }
    },
    {
      "cell_type": "markdown",
      "source": [
        ""
      ],
      "metadata": {
        "id": "tHD0gjTM7DRE"
      }
    },
    {
      "cell_type": "markdown",
      "source": [
        "kNN特徴量生成"
      ],
      "metadata": {
        "id": "4l6TC5TsKwmb"
      }
    },
    {
      "cell_type": "code",
      "source": [
        "df[\"genre_name\"] = df[\"genre\"].map(dict(df_genre_labels[[\"labels\", \"genre\"]].values))"
      ],
      "metadata": {
        "id": "WXZygrHoTWW3"
      },
      "execution_count": 24,
      "outputs": []
    },
    {
      "cell_type": "code",
      "source": [
        "df = pd.concat([df, pd.get_dummies(df[\"region\"]).rename(columns={\"unknown\": \"region_unknown\"})], axis=1)"
      ],
      "metadata": {
        "id": "0JOl5Q_RTdgv"
      },
      "execution_count": 25,
      "outputs": []
    },
    {
      "cell_type": "code",
      "source": [
        "df[\"num_nans\"] = 0\n",
        "for col in [\n",
        "    \"acousticness\",\n",
        "    \"positiveness\",\n",
        "    \"danceability\",\n",
        "    \"energy\",\n",
        "    \"liveness\",\n",
        "    \"speechiness\",\n",
        "    \"instrumentalness\",\n",
        "]:\n",
        "    df[\"num_nans\"] += df[col].isna()"
      ],
      "metadata": {
        "id": "7e-4biyRTj1e"
      },
      "execution_count": 26,
      "outputs": []
    },
    {
      "cell_type": "code",
      "source": [
        "class CountEncoder:\n",
        "    def fit(self, series):\n",
        "        self.counts = series.groupby(series).count()\n",
        "        return self\n",
        "    \n",
        "    def transform(self, series):\n",
        "        return series.map(self.counts).fillna(0)\n",
        "    \n",
        "    def fit_transform(self, series):\n",
        "        return self.fit(series).transform(series)"
      ],
      "metadata": {
        "id": "lBiLyp04Tmpe"
      },
      "execution_count": 27,
      "outputs": []
    },
    {
      "cell_type": "code",
      "source": [
        "columns_count_enc = [\"region\"]\n",
        "for col in columns_count_enc:\n",
        "    df[\"countenc_\" + col] = CountEncoder().fit_transform(df[col])\n",
        "    df.loc[df[col].isna().values, \"countenc_\" + col] = np.nan"
      ],
      "metadata": {
        "id": "6nSsl5JQToX2"
      },
      "execution_count": 28,
      "outputs": []
    },
    {
      "cell_type": "code",
      "source": [
        "columns_label_enc = [\"region\"]\n",
        "for col in columns_count_enc:\n",
        "    df[\"labelenc_\" + col] = LabelEncoder().fit_transform(df[col])\n",
        "    df.loc[df[col].isna().values, \"labelenc_\" + col] = np.nan"
      ],
      "metadata": {
        "id": "8bAVZ0HITs2G"
      },
      "execution_count": 29,
      "outputs": []
    },
    {
      "cell_type": "code",
      "source": [
        "class GroupFeatureExtractor:  # 参考: https://signate.jp/competitions/449/discussions/lgbm-baseline-lb06240\n",
        "    EX_TRANS_METHODS = [\"deviation\", \"zscore\"]\n",
        "    \n",
        "    def __init__(self, group_key, group_values, agg_methods):\n",
        "        self.group_key = group_key\n",
        "        self.group_values = group_values\n",
        "\n",
        "        self.ex_trans_methods = [m for m in agg_methods if m in self.EX_TRANS_METHODS]\n",
        "        self.agg_methods = [m for m in agg_methods if m not in self.ex_trans_methods]\n",
        "        self.df_agg = None\n",
        "\n",
        "    def fit(self, df_train, y=None):\n",
        "        if not self.agg_methods:\n",
        "            return\n",
        "        dfs = []\n",
        "        for agg_method in self.agg_methods:\n",
        "            if callable(agg_method):\n",
        "                agg_method_name = agg_method.__name__\n",
        "            else:\n",
        "                agg_method_name = agg_method\n",
        "            df_agg = (df_train[[self.group_key] + self.group_values].groupby(self.group_key).agg(agg_method))\n",
        "            df_agg.columns = self._get_column_names(agg_method_name)\n",
        "            dfs.append(df_agg)\n",
        "        self.df_agg = pd.concat(dfs, axis=1).reset_index()\n",
        "\n",
        "    def transform(self, df_eval):\n",
        "        key = self.group_key\n",
        "        if self.agg_methods:\n",
        "            df_features = pd.merge(df_eval[[self.group_key]], self.df_agg, on=self.group_key, how=\"left\")\n",
        "        else:\n",
        "            df_features = df_eval[[self.group_key]].copy()\n",
        "        if self.ex_trans_methods:\n",
        "            if \"deviation\" in self.ex_trans_methods:\n",
        "                df_features[self._get_agg_column_names(\"deviation\")] = df_eval[self.group_values] - df_eval[[key]+self.group_values].groupby(key).transform(\"mean\")\n",
        "            if \"zscore\" in self.ex_trans_methods:\n",
        "                df_features[self._get_column_names(\"zscore\")] = (df_eval[self.group_values] - df_eval[[key]+self.group_values].groupby(key).transform(\"mean\")) \\\n",
        "                                                                / (df_eval[[key]+self.group_values].groupby(key).transform(\"std\") + 1e-8)\n",
        "        df_features.drop(self.group_key, axis=1, inplace=True)\n",
        "        return df_features\n",
        "\n",
        "    def _get_column_names(self, method):\n",
        "        return [f\"agg_{method}_{col}_grpby_{self.group_key}\" for col in self.group_values]\n",
        "\n",
        "    def fit_transform(self, df_train, y=None):\n",
        "        self.fit(df_train, y=y)\n",
        "        return self.transform(df_train) "
      ],
      "metadata": {
        "id": "b-DTsj2ATxh2"
      },
      "execution_count": 30,
      "outputs": []
    },
    {
      "cell_type": "code",
      "source": [
        "df[\"log_tempo\"] = np.log(df[\"tempo\"])"
      ],
      "metadata": {
        "id": "HoT5p2E6T2Ju"
      },
      "execution_count": 31,
      "outputs": []
    },
    {
      "cell_type": "code",
      "source": [
        "gfe = GroupFeatureExtractor(\n",
        "    \"region\", \n",
        "    ['popularity', 'duration_ms', 'acousticness', 'positiveness', 'danceability', 'loudness', 'energy', 'liveness', 'speechiness', 'instrumentalness', 'log_tempo'],\n",
        "    [\"zscore\"]\n",
        ")"
      ],
      "metadata": {
        "id": "cMomp8-WT4MP"
      },
      "execution_count": 32,
      "outputs": []
    },
    {
      "cell_type": "code",
      "source": [
        "df = pd.concat([df, gfe.fit_transform(df)], axis=1)"
      ],
      "metadata": {
        "id": "YwnhqNpFT5u2"
      },
      "execution_count": 33,
      "outputs": []
    },
    {
      "cell_type": "code",
      "source": [
        "class KNNFeatureExtractor:\n",
        "    def __init__(self, n_neighbors=5):\n",
        "        self.knn = KNeighborsClassifier(n_neighbors + 1)\n",
        "    \n",
        "    def fit(self, X, y):\n",
        "        self.knn.fit(X, y)\n",
        "        self.y = y if isinstance(y, np.ndarray) else np.array(y)\n",
        "        return self\n",
        "    \n",
        "    def transform(self, X, is_train_data):\n",
        "        distances, indexes = self.knn.kneighbors(X)\n",
        "        distances = distances[:, 1:] if is_train_data else distances[:, :-1]\n",
        "        indexes = indexes[:, 1:] if is_train_data else indexes[:, :-1]\n",
        "        labels = self.y[indexes]\n",
        "        score_columns = [f\"knn_score_class{c:02d}\" for c in range(N_CLASSES)]\n",
        "        df_knn = pd.DataFrame(\n",
        "            [np.bincount(labels_, distances_, N_CLASSES) for labels_, distances_ in zip(labels, 1.0 / distances)],\n",
        "            columns=score_columns\n",
        "        )\n",
        "        df_knn[\"max_knn_scores\"] = df_knn.max(1)\n",
        "        for col in score_columns:\n",
        "            df_knn[f\"sub_max_knn_scores_{col}\"] = df_knn[\"max_knn_scores\"] - df_knn[col]\n",
        "        for i, col1 in enumerate(score_columns):\n",
        "            for j, col2 in enumerate(score_columns[i+1:], i+1):\n",
        "                if {i, j} & {8, 10}:\n",
        "                    df_knn[f\"sub_{col1}_{col2}\"] = df_knn[col1] - df_knn[col2]\n",
        "        df_knn[\"sum_knn_scores\"] = df_knn.sum(1)\n",
        "        \n",
        "        return df_knn"
      ],
      "metadata": {
        "id": "uGcvhXNfT8Ze"
      },
      "execution_count": 34,
      "outputs": []
    },
    {
      "cell_type": "markdown",
      "source": [
        "feature scaling"
      ],
      "metadata": {
        "id": "K5m-dT3IS2Qf"
      }
    },
    {
      "cell_type": "code",
      "source": [
        "df[\"log_tempo\"] = np.log(df[\"tempo\"])\n",
        "for col in [\n",
        "    'popularity', 'duration_ms', 'acousticness',\n",
        "    'positiveness', 'danceability', 'loudness', 'energy', 'liveness',\n",
        "    'speechiness', 'instrumentalness', 'log_tempo', 'num_nans',\n",
        "]:\n",
        "    df[\"standardscaled_\" + col] = StandardScaler().fit_transform(df[[col]])[:, 0]"
      ],
      "metadata": {
        "id": "HT1mEVOLT_RH"
      },
      "execution_count": 35,
      "outputs": []
    },
    {
      "cell_type": "markdown",
      "source": [
        "label encoding"
      ],
      "metadata": {
        "id": "Ss_XGuJc2MFo"
      }
    },
    {
      "cell_type": "code",
      "source": [
        "categorical = df.dtypes[df.dtypes=='object'].index.tolist()"
      ],
      "metadata": {
        "id": "77XlXxGx_IBV"
      },
      "execution_count": 36,
      "outputs": []
    },
    {
      "cell_type": "code",
      "source": [
        "#label encoder\n",
        "from sklearn import preprocessing\n",
        "\n",
        "le = preprocessing.LabelEncoder()\n",
        "\n",
        "for c in categorical:\n",
        "    c2l = df.loc[:,c]\n",
        "    c2l = le.fit_transform(c2l)\n",
        "    df.loc[:,c] = c2l "
      ],
      "metadata": {
        "id": "9tz3n5lMVIqV"
      },
      "execution_count": 37,
      "outputs": []
    },
    {
      "cell_type": "markdown",
      "source": [
        "最後にもう一度欠損値補完"
      ],
      "metadata": {
        "id": "eOea7IZX-xK1"
      }
    },
    {
      "cell_type": "code",
      "source": [
        "df_na = df.isnull().sum()\n",
        "df_na = df_na[df_na!=0].index.tolist()\n",
        "\n",
        "df_param=KNNImputer().fit_transform(df.loc[:,df_na].copy())\n",
        "df_param = pd.DataFrame(df_param)\n",
        "\n",
        "for i, _ in enumerate(df_na):\n",
        "    df.loc[:,df_na[i]]=df_param[i]"
      ],
      "metadata": {
        "id": "brWvO0bx-0KF"
      },
      "execution_count": 38,
      "outputs": []
    },
    {
      "cell_type": "markdown",
      "source": [
        "df_train df_test 分割"
      ],
      "metadata": {
        "id": "0RUsmfWI1icW"
      }
    },
    {
      "cell_type": "code",
      "source": [
        "df_train, df_test = split_train_test(df)"
      ],
      "metadata": {
        "id": "LgAt3SLUUD52"
      },
      "execution_count": 39,
      "outputs": []
    },
    {
      "cell_type": "code",
      "source": [
        "target = df_train[\"genre\"]"
      ],
      "metadata": {
        "id": "8p2Kb-OFUFS2"
      },
      "execution_count": 40,
      "outputs": []
    },
    {
      "cell_type": "markdown",
      "source": [
        "#parameters"
      ],
      "metadata": {
        "id": "RPqKMQDvS2NH"
      }
    },
    {
      "cell_type": "code",
      "source": [
        "learning_rate = 0.01"
      ],
      "metadata": {
        "id": "is-47apaUJfW"
      },
      "execution_count": 41,
      "outputs": []
    },
    {
      "cell_type": "code",
      "source": [
        "lgb_params = {\n",
        "    \"objective\": \"multiclass\",\n",
        "    \"num_class\": N_CLASSES,\n",
        "    #\"metric\": \"None\",\n",
        "    \"learning_rate\": learning_rate,\n",
        "    \"num_leaves\": 3,\n",
        "    \"min_data_in_leaf\": 40,\n",
        "    #\"colsample_bytree\": 1.0,\n",
        "    #\"feature_fraction\": 1.0,\n",
        "    #\"bagging_freq\": 0,\n",
        "    #\"bagging_fraction\": 1.0,\n",
        "    \"verbosity\": 0,\n",
        "    \"seed\": 42,\n",
        "}"
      ],
      "metadata": {
        "id": "ncraAvC2ULNW"
      },
      "execution_count": 42,
      "outputs": []
    },
    {
      "cell_type": "code",
      "source": [
        "knn_n_neighbors = 6"
      ],
      "metadata": {
        "id": "shH5lW1dUMoW"
      },
      "execution_count": 43,
      "outputs": []
    },
    {
      "cell_type": "code",
      "source": [
        "knn_features = [\n",
        "   'region_A', 'region_B', 'region_C', 'region_D', 'region_E', 'region_F',\n",
        "   'region_G', 'region_H', 'region_I', 'region_J', 'region_K', 'region_L',\n",
        "   'region_M', 'region_N', 'region_O', 'region_P', 'region_Q', 'region_R',\n",
        "   'region_S', 'region_T', 'region_unknown',\n",
        "   'standardscaled_popularity', 'standardscaled_duration_ms',\n",
        "   'standardscaled_acousticness', 'standardscaled_positiveness',\n",
        "   'standardscaled_danceability', 'standardscaled_loudness',\n",
        "   'standardscaled_energy', 'standardscaled_liveness',\n",
        "   'standardscaled_speechiness', 'standardscaled_instrumentalness',\n",
        "   'standardscaled_log_tempo', 'standardscaled_num_nans'\n",
        "]"
      ],
      "metadata": {
        "id": "-38Z8ZZoUOA-"
      },
      "execution_count": 44,
      "outputs": []
    },
    {
      "cell_type": "code",
      "source": [
        "dict_feature_weights = {}\n",
        "for col in [\n",
        "    'region_A', 'region_B', 'region_C', 'region_D', 'region_E', 'region_F',\n",
        "    'region_G', 'region_H', 'region_I', 'region_J', 'region_K', 'region_L',\n",
        "    'region_M', 'region_N', 'region_O', 'region_P', 'region_Q', 'region_R',\n",
        "    'region_S', 'region_T', 'region_unknown'\n",
        "]:\n",
        "    dict_feature_weights[col] = 100.0"
      ],
      "metadata": {
        "id": "dtjCA6uyUPcG"
      },
      "execution_count": 45,
      "outputs": []
    },
    {
      "cell_type": "code",
      "source": [
        "for col in [\n",
        "    'standardscaled_duration_ms',\n",
        "    'standardscaled_acousticness', 'standardscaled_positiveness',\n",
        "    'standardscaled_danceability', 'standardscaled_loudness',\n",
        "    'standardscaled_energy', 'standardscaled_liveness',\n",
        "    'standardscaled_speechiness', 'standardscaled_instrumentalness'\n",
        "]:\n",
        "    dict_feature_weights[col] = 1.0"
      ],
      "metadata": {
        "id": "tz9ihq86UXmu"
      },
      "execution_count": 46,
      "outputs": []
    },
    {
      "cell_type": "code",
      "source": [
        "dict_feature_weights[\"standardscaled_popularity\"] = 8.0\n",
        "dict_feature_weights[\"standardscaled_log_tempo\"] = 0.001\n",
        "dict_feature_weights[\"standardscaled_num_nans\"] = 100.0"
      ],
      "metadata": {
        "id": "C6uiqPCSUZNm"
      },
      "execution_count": 47,
      "outputs": []
    },
    {
      "cell_type": "code",
      "source": [
        "knn_feature_weights = np.array([dict_feature_weights[col] for col in knn_features])"
      ],
      "metadata": {
        "id": "72ugfFRrUa--"
      },
      "execution_count": 48,
      "outputs": []
    },
    {
      "cell_type": "markdown",
      "source": [
        "#モデリング＆予測"
      ],
      "metadata": {
        "id": "vWuBohX72Xdf"
      }
    },
    {
      "cell_type": "code",
      "source": [
        "# GMM\n",
        "from sklearn.mixture import GaussianMixture\n",
        "from sklearn.cluster import DBSCAN\n",
        "from sklearn.cluster import MeanShift\n",
        "from sklearn.cluster import AgglomerativeClustering"
      ],
      "metadata": {
        "id": "zvx_1z7T0Hd_"
      },
      "execution_count": 49,
      "outputs": []
    },
    {
      "cell_type": "code",
      "source": [
        "N_SPLITS = 15\n",
        "SEED_SKF = 42\n",
        "np.random.seed(42)\n",
        "\n",
        "skf = StratifiedKFold(n_splits=N_SPLITS, shuffle=True, random_state=SEED_SKF)\n",
        "oof = np.zeros((len(df_train), N_CLASSES))\n",
        "predictions = np.zeros((len(df_test), N_CLASSES))\n",
        "df_feature_importance = pd.DataFrame()\n",
        "\n",
        "\n",
        "features_categorical = [\"labelenc_region\"]\n",
        "#features = features_numerical + features_categorical\n",
        "\n",
        "for fold_, (indexes_trn, indexes_val) in enumerate(skf.split(df_train.values, target.values)):\n",
        "    print(f\"------------------------------ fold {fold_} ------------------------------\")\n",
        "    \n",
        "    df_trn = df_train.loc[indexes_trn,:].reset_index(drop=True)\n",
        "    df_val = df_train.loc[indexes_val,:].reset_index(drop=True)\n",
        "    target_trn = target[indexes_trn].reset_index(drop=True)\n",
        "    target_val = target[indexes_val].reset_index(drop=True)\n",
        "    \n",
        "    # make knn features\n",
        "    X = df_trn[knn_features].fillna(0.0).values * knn_feature_weights\n",
        "    knn_feature_extractor = KNNFeatureExtractor(knn_n_neighbors).fit(X, target_trn)\n",
        "    df_trn = pd.concat([df_trn, knn_feature_extractor.transform(X, is_train_data=True)], axis=1)\n",
        "    X = df_val[knn_features].fillna(0.0).values * knn_feature_weights\n",
        "    df_val = pd.concat([df_val, knn_feature_extractor.transform(X, is_train_data=False)], axis=1)\n",
        "    X = df_test[knn_features].fillna(0.0).values * knn_feature_weights\n",
        "    df_test_knn_features = knn_feature_extractor.transform(X, is_train_data=False)\n",
        "    for col in df_test_knn_features.columns:\n",
        "        df_test[col] = df_test_knn_features[col]\n",
        "\n",
        "    # columnsを整理\n",
        "    features = df_trn.columns.tolist()\n",
        "    features.remove(\"index\")\n",
        "    features.remove(\"genre\")\n",
        "    features.remove(\"region\")\n",
        "    features.remove(\"genre_name\")\n",
        "    \n",
        "    # GMM feature\n",
        "    model_GMM = GaussianMixture(n_components=11, reg_covar=1e-4)\n",
        "    model_GMM.fit(df_trn[features])\n",
        "    trn_GMM = model_GMM.predict(df_trn[features])\n",
        "    val_GMM = model_GMM.predict(df_val[features])\n",
        "    tst_GMM = model_GMM.predict(df_test[features])\n",
        "    \n",
        "    # DBSCAN\n",
        "    model_DBSCAN = DBSCAN(eps=20)\n",
        "    trn_DBSCAN = model_DBSCAN.fit_predict(df_trn[features])\n",
        "    val_DBSCAN = model_DBSCAN.fit_predict(df_val[features])\n",
        "    tst_DBSCAN = model_DBSCAN.fit_predict(df_test[features])\n",
        "    \n",
        "    # mean shift\n",
        "    model_MS = MeanShift()\n",
        "    model_MS.fit(df_trn[features])\n",
        "    trn_MS = model_MS.predict(df_trn[features])\n",
        "    val_MS = model_MS.predict(df_val[features])\n",
        "    tst_MS = model_MS.predict(df_test[features])\n",
        "    \n",
        "    # AgglomerativeClustering\n",
        "    model_AC = AgglomerativeClustering(n_clusters=11)\n",
        "    trn_AC = model_AC.fit_predict(df_trn[features])\n",
        "    val_AC = model_AC.fit_predict(df_val[features])\n",
        "    tst_AC = model_AC.fit_predict(df_test[features])\n",
        "\n",
        "    # クラスタリング項目を連結\n",
        "    df_trn['GMM']=trn_GMM\n",
        "    df_val['GMM']=val_GMM\n",
        "    df_test['GMM']=tst_GMM\n",
        "    \n",
        "    df_trn['DBSCAN']=trn_DBSCAN\n",
        "    df_val['DBSCAN']=val_DBSCAN\n",
        "    df_test['DBSCAN']=tst_DBSCAN\n",
        "\n",
        "    df_trn['MeanShift']=trn_MS\n",
        "    df_val['MeanShift']=val_MS\n",
        "    df_test['MeanShift']=tst_MS\n",
        "\n",
        "    df_trn['AgglomerativeClustering']=trn_AC\n",
        "    df_val['AgglomerativeClustering']=val_AC\n",
        "    df_test['AgglomerativeClustering']=tst_AC       \n",
        "\n",
        "    # featuresにクラスタリングを追加\n",
        "    features += ['GMM','DBSCAN','MeanShift','AgglomerativeClustering']\n",
        "\n",
        "    # lgb datasets\n",
        "    lgb_train = lgb.Dataset(\n",
        "        df_trn.loc[:, features],\n",
        "        label=target_trn,\n",
        "        feature_name=features,\n",
        "        categorical_feature=features_categorical\n",
        "    )\n",
        "    lgb_valid = lgb.Dataset(\n",
        "        df_val.loc[:, features],\n",
        "        label=target_val,\n",
        "        feature_name=features,\n",
        "        categorical_feature=features_categorical\n",
        "    )\n",
        "    \n",
        "    # modeling\n",
        "    lgb_params[\"learning_rate\"] = learning_rate + np.random.random() * 0.001  # おまじない\n",
        "    num_round = 999999999\n",
        "    model = lgb.train(\n",
        "        lgb_params,\n",
        "        lgb_train, \n",
        "        num_round, \n",
        "        valid_sets=[lgb_train, lgb_valid], \n",
        "        verbose_eval=300,\n",
        "        early_stopping_rounds=300 if num_round >= 1e8 else None,\n",
        "        fobj=None,\n",
        "        #feval=lgb_metric,\n",
        "    )\n",
        "    \n",
        "    # cv\n",
        "    prediction_round = model.best_iteration+150 if num_round >= 1e8 else num_round  # おまじない\n",
        "    oof[indexes_val] = model.predict(df_val[features], num_iteration=prediction_round)\n",
        "    \n",
        "    # feature importance\n",
        "    df_fold_importance = pd.DataFrame()\n",
        "    df_fold_importance[\"feature\"] = features\n",
        "    df_fold_importance[\"importance\"] = model.feature_importance()\n",
        "    df_fold_importance[\"fold\"] = fold_\n",
        "    df_feature_importance = pd.concat([df_feature_importance, df_fold_importance], axis=0)\n",
        "    \n",
        "    # prediction for test data\n",
        "    p = model.predict(df_test[features], num_iteration=prediction_round)\n",
        "    predictions +=  1/p\n",
        "\n",
        "predictions = N_SPLITS / predictions\n",
        "print()"
      ],
      "metadata": {
        "colab": {
          "base_uri": "https://localhost:8080/"
        },
        "id": "woBttfRRUf59",
        "outputId": "cba1ce25-aefa-4396-eeb3-40522e3b0e1d"
      },
      "execution_count": 50,
      "outputs": [
        {
          "output_type": "stream",
          "name": "stdout",
          "text": [
            "------------------------------ fold 0 ------------------------------\n"
          ]
        },
        {
          "output_type": "stream",
          "name": "stderr",
          "text": [
            "/usr/local/lib/python3.7/dist-packages/ipykernel_launcher.py:31: SettingWithCopyWarning: \n",
            "A value is trying to be set on a copy of a slice from a DataFrame.\n",
            "Try using .loc[row_indexer,col_indexer] = value instead\n",
            "\n",
            "See the caveats in the documentation: https://pandas.pydata.org/pandas-docs/stable/user_guide/indexing.html#returning-a-view-versus-a-copy\n",
            "/usr/local/lib/python3.7/dist-packages/ipykernel_launcher.py:69: SettingWithCopyWarning: \n",
            "A value is trying to be set on a copy of a slice from a DataFrame.\n",
            "Try using .loc[row_indexer,col_indexer] = value instead\n",
            "\n",
            "See the caveats in the documentation: https://pandas.pydata.org/pandas-docs/stable/user_guide/indexing.html#returning-a-view-versus-a-copy\n",
            "/usr/local/lib/python3.7/dist-packages/ipykernel_launcher.py:73: SettingWithCopyWarning: \n",
            "A value is trying to be set on a copy of a slice from a DataFrame.\n",
            "Try using .loc[row_indexer,col_indexer] = value instead\n",
            "\n",
            "See the caveats in the documentation: https://pandas.pydata.org/pandas-docs/stable/user_guide/indexing.html#returning-a-view-versus-a-copy\n",
            "/usr/local/lib/python3.7/dist-packages/ipykernel_launcher.py:77: SettingWithCopyWarning: \n",
            "A value is trying to be set on a copy of a slice from a DataFrame.\n",
            "Try using .loc[row_indexer,col_indexer] = value instead\n",
            "\n",
            "See the caveats in the documentation: https://pandas.pydata.org/pandas-docs/stable/user_guide/indexing.html#returning-a-view-versus-a-copy\n",
            "/usr/local/lib/python3.7/dist-packages/ipykernel_launcher.py:81: SettingWithCopyWarning: \n",
            "A value is trying to be set on a copy of a slice from a DataFrame.\n",
            "Try using .loc[row_indexer,col_indexer] = value instead\n",
            "\n",
            "See the caveats in the documentation: https://pandas.pydata.org/pandas-docs/stable/user_guide/indexing.html#returning-a-view-versus-a-copy\n",
            "/usr/local/lib/python3.7/dist-packages/lightgbm/basic.py:1205: UserWarning: Using categorical_feature in Dataset.\n",
            "  warnings.warn('Using categorical_feature in Dataset.')\n",
            "/usr/local/lib/python3.7/dist-packages/lightgbm/basic.py:762: UserWarning: categorical_feature in param dict is overridden.\n",
            "  warnings.warn('categorical_feature in param dict is overridden.')\n"
          ]
        },
        {
          "output_type": "stream",
          "name": "stdout",
          "text": [
            "Training until validation scores don't improve for 300 rounds.\n",
            "[300]\ttraining's multi_logloss: 0.804814\tvalid_1's multi_logloss: 0.934665\n",
            "[600]\ttraining's multi_logloss: 0.714969\tvalid_1's multi_logloss: 0.877168\n",
            "[900]\ttraining's multi_logloss: 0.664473\tvalid_1's multi_logloss: 0.854655\n",
            "[1200]\ttraining's multi_logloss: 0.627653\tvalid_1's multi_logloss: 0.846272\n",
            "[1500]\ttraining's multi_logloss: 0.596879\tvalid_1's multi_logloss: 0.843717\n",
            "[1800]\ttraining's multi_logloss: 0.570283\tvalid_1's multi_logloss: 0.842444\n",
            "Early stopping, best iteration is:\n",
            "[1723]\ttraining's multi_logloss: 0.576761\tvalid_1's multi_logloss: 0.842153\n",
            "------------------------------ fold 1 ------------------------------\n"
          ]
        },
        {
          "output_type": "stream",
          "name": "stderr",
          "text": [
            "/usr/local/lib/python3.7/dist-packages/ipykernel_launcher.py:31: SettingWithCopyWarning: \n",
            "A value is trying to be set on a copy of a slice from a DataFrame.\n",
            "Try using .loc[row_indexer,col_indexer] = value instead\n",
            "\n",
            "See the caveats in the documentation: https://pandas.pydata.org/pandas-docs/stable/user_guide/indexing.html#returning-a-view-versus-a-copy\n",
            "/usr/local/lib/python3.7/dist-packages/ipykernel_launcher.py:69: SettingWithCopyWarning: \n",
            "A value is trying to be set on a copy of a slice from a DataFrame.\n",
            "Try using .loc[row_indexer,col_indexer] = value instead\n",
            "\n",
            "See the caveats in the documentation: https://pandas.pydata.org/pandas-docs/stable/user_guide/indexing.html#returning-a-view-versus-a-copy\n",
            "/usr/local/lib/python3.7/dist-packages/ipykernel_launcher.py:73: SettingWithCopyWarning: \n",
            "A value is trying to be set on a copy of a slice from a DataFrame.\n",
            "Try using .loc[row_indexer,col_indexer] = value instead\n",
            "\n",
            "See the caveats in the documentation: https://pandas.pydata.org/pandas-docs/stable/user_guide/indexing.html#returning-a-view-versus-a-copy\n",
            "/usr/local/lib/python3.7/dist-packages/ipykernel_launcher.py:77: SettingWithCopyWarning: \n",
            "A value is trying to be set on a copy of a slice from a DataFrame.\n",
            "Try using .loc[row_indexer,col_indexer] = value instead\n",
            "\n",
            "See the caveats in the documentation: https://pandas.pydata.org/pandas-docs/stable/user_guide/indexing.html#returning-a-view-versus-a-copy\n",
            "/usr/local/lib/python3.7/dist-packages/ipykernel_launcher.py:81: SettingWithCopyWarning: \n",
            "A value is trying to be set on a copy of a slice from a DataFrame.\n",
            "Try using .loc[row_indexer,col_indexer] = value instead\n",
            "\n",
            "See the caveats in the documentation: https://pandas.pydata.org/pandas-docs/stable/user_guide/indexing.html#returning-a-view-versus-a-copy\n",
            "/usr/local/lib/python3.7/dist-packages/lightgbm/basic.py:1205: UserWarning: Using categorical_feature in Dataset.\n",
            "  warnings.warn('Using categorical_feature in Dataset.')\n",
            "/usr/local/lib/python3.7/dist-packages/lightgbm/basic.py:762: UserWarning: categorical_feature in param dict is overridden.\n",
            "  warnings.warn('categorical_feature in param dict is overridden.')\n"
          ]
        },
        {
          "output_type": "stream",
          "name": "stdout",
          "text": [
            "Training until validation scores don't improve for 300 rounds.\n",
            "[300]\ttraining's multi_logloss: 0.817113\tvalid_1's multi_logloss: 0.850557\n",
            "[600]\ttraining's multi_logloss: 0.72508\tvalid_1's multi_logloss: 0.798288\n",
            "[900]\ttraining's multi_logloss: 0.673866\tvalid_1's multi_logloss: 0.787419\n",
            "[1200]\ttraining's multi_logloss: 0.636358\tvalid_1's multi_logloss: 0.784363\n",
            "Early stopping, best iteration is:\n",
            "[1176]\ttraining's multi_logloss: 0.63906\tvalid_1's multi_logloss: 0.784181\n",
            "------------------------------ fold 2 ------------------------------\n"
          ]
        },
        {
          "output_type": "stream",
          "name": "stderr",
          "text": [
            "/usr/local/lib/python3.7/dist-packages/ipykernel_launcher.py:31: SettingWithCopyWarning: \n",
            "A value is trying to be set on a copy of a slice from a DataFrame.\n",
            "Try using .loc[row_indexer,col_indexer] = value instead\n",
            "\n",
            "See the caveats in the documentation: https://pandas.pydata.org/pandas-docs/stable/user_guide/indexing.html#returning-a-view-versus-a-copy\n",
            "/usr/local/lib/python3.7/dist-packages/ipykernel_launcher.py:69: SettingWithCopyWarning: \n",
            "A value is trying to be set on a copy of a slice from a DataFrame.\n",
            "Try using .loc[row_indexer,col_indexer] = value instead\n",
            "\n",
            "See the caveats in the documentation: https://pandas.pydata.org/pandas-docs/stable/user_guide/indexing.html#returning-a-view-versus-a-copy\n",
            "/usr/local/lib/python3.7/dist-packages/ipykernel_launcher.py:73: SettingWithCopyWarning: \n",
            "A value is trying to be set on a copy of a slice from a DataFrame.\n",
            "Try using .loc[row_indexer,col_indexer] = value instead\n",
            "\n",
            "See the caveats in the documentation: https://pandas.pydata.org/pandas-docs/stable/user_guide/indexing.html#returning-a-view-versus-a-copy\n",
            "/usr/local/lib/python3.7/dist-packages/ipykernel_launcher.py:77: SettingWithCopyWarning: \n",
            "A value is trying to be set on a copy of a slice from a DataFrame.\n",
            "Try using .loc[row_indexer,col_indexer] = value instead\n",
            "\n",
            "See the caveats in the documentation: https://pandas.pydata.org/pandas-docs/stable/user_guide/indexing.html#returning-a-view-versus-a-copy\n",
            "/usr/local/lib/python3.7/dist-packages/ipykernel_launcher.py:81: SettingWithCopyWarning: \n",
            "A value is trying to be set on a copy of a slice from a DataFrame.\n",
            "Try using .loc[row_indexer,col_indexer] = value instead\n",
            "\n",
            "See the caveats in the documentation: https://pandas.pydata.org/pandas-docs/stable/user_guide/indexing.html#returning-a-view-versus-a-copy\n",
            "/usr/local/lib/python3.7/dist-packages/lightgbm/basic.py:1205: UserWarning: Using categorical_feature in Dataset.\n",
            "  warnings.warn('Using categorical_feature in Dataset.')\n",
            "/usr/local/lib/python3.7/dist-packages/lightgbm/basic.py:762: UserWarning: categorical_feature in param dict is overridden.\n",
            "  warnings.warn('categorical_feature in param dict is overridden.')\n"
          ]
        },
        {
          "output_type": "stream",
          "name": "stdout",
          "text": [
            "Training until validation scores don't improve for 300 rounds.\n",
            "[300]\ttraining's multi_logloss: 0.814862\tvalid_1's multi_logloss: 0.856186\n",
            "[600]\ttraining's multi_logloss: 0.723696\tvalid_1's multi_logloss: 0.809365\n",
            "[900]\ttraining's multi_logloss: 0.673368\tvalid_1's multi_logloss: 0.794235\n",
            "[1200]\ttraining's multi_logloss: 0.635773\tvalid_1's multi_logloss: 0.78759\n",
            "[1500]\ttraining's multi_logloss: 0.605176\tvalid_1's multi_logloss: 0.785711\n",
            "Early stopping, best iteration is:\n",
            "[1485]\ttraining's multi_logloss: 0.606573\tvalid_1's multi_logloss: 0.785515\n",
            "------------------------------ fold 3 ------------------------------\n"
          ]
        },
        {
          "output_type": "stream",
          "name": "stderr",
          "text": [
            "/usr/local/lib/python3.7/dist-packages/ipykernel_launcher.py:31: SettingWithCopyWarning: \n",
            "A value is trying to be set on a copy of a slice from a DataFrame.\n",
            "Try using .loc[row_indexer,col_indexer] = value instead\n",
            "\n",
            "See the caveats in the documentation: https://pandas.pydata.org/pandas-docs/stable/user_guide/indexing.html#returning-a-view-versus-a-copy\n",
            "/usr/local/lib/python3.7/dist-packages/ipykernel_launcher.py:69: SettingWithCopyWarning: \n",
            "A value is trying to be set on a copy of a slice from a DataFrame.\n",
            "Try using .loc[row_indexer,col_indexer] = value instead\n",
            "\n",
            "See the caveats in the documentation: https://pandas.pydata.org/pandas-docs/stable/user_guide/indexing.html#returning-a-view-versus-a-copy\n",
            "/usr/local/lib/python3.7/dist-packages/ipykernel_launcher.py:73: SettingWithCopyWarning: \n",
            "A value is trying to be set on a copy of a slice from a DataFrame.\n",
            "Try using .loc[row_indexer,col_indexer] = value instead\n",
            "\n",
            "See the caveats in the documentation: https://pandas.pydata.org/pandas-docs/stable/user_guide/indexing.html#returning-a-view-versus-a-copy\n",
            "/usr/local/lib/python3.7/dist-packages/ipykernel_launcher.py:77: SettingWithCopyWarning: \n",
            "A value is trying to be set on a copy of a slice from a DataFrame.\n",
            "Try using .loc[row_indexer,col_indexer] = value instead\n",
            "\n",
            "See the caveats in the documentation: https://pandas.pydata.org/pandas-docs/stable/user_guide/indexing.html#returning-a-view-versus-a-copy\n",
            "/usr/local/lib/python3.7/dist-packages/ipykernel_launcher.py:81: SettingWithCopyWarning: \n",
            "A value is trying to be set on a copy of a slice from a DataFrame.\n",
            "Try using .loc[row_indexer,col_indexer] = value instead\n",
            "\n",
            "See the caveats in the documentation: https://pandas.pydata.org/pandas-docs/stable/user_guide/indexing.html#returning-a-view-versus-a-copy\n",
            "/usr/local/lib/python3.7/dist-packages/lightgbm/basic.py:1205: UserWarning: Using categorical_feature in Dataset.\n",
            "  warnings.warn('Using categorical_feature in Dataset.')\n",
            "/usr/local/lib/python3.7/dist-packages/lightgbm/basic.py:762: UserWarning: categorical_feature in param dict is overridden.\n",
            "  warnings.warn('categorical_feature in param dict is overridden.')\n"
          ]
        },
        {
          "output_type": "stream",
          "name": "stdout",
          "text": [
            "Training until validation scores don't improve for 300 rounds.\n",
            "[300]\ttraining's multi_logloss: 0.819329\tvalid_1's multi_logloss: 0.802037\n",
            "[600]\ttraining's multi_logloss: 0.72889\tvalid_1's multi_logloss: 0.757629\n",
            "[900]\ttraining's multi_logloss: 0.676687\tvalid_1's multi_logloss: 0.73779\n",
            "[1200]\ttraining's multi_logloss: 0.639438\tvalid_1's multi_logloss: 0.728312\n",
            "[1500]\ttraining's multi_logloss: 0.608162\tvalid_1's multi_logloss: 0.724225\n",
            "[1800]\ttraining's multi_logloss: 0.580383\tvalid_1's multi_logloss: 0.722669\n",
            "[2100]\ttraining's multi_logloss: 0.555461\tvalid_1's multi_logloss: 0.72187\n",
            "[2400]\ttraining's multi_logloss: 0.533077\tvalid_1's multi_logloss: 0.72233\n",
            "Early stopping, best iteration is:\n",
            "[2118]\ttraining's multi_logloss: 0.554029\tvalid_1's multi_logloss: 0.721625\n",
            "------------------------------ fold 4 ------------------------------\n"
          ]
        },
        {
          "output_type": "stream",
          "name": "stderr",
          "text": [
            "/usr/local/lib/python3.7/dist-packages/ipykernel_launcher.py:31: SettingWithCopyWarning: \n",
            "A value is trying to be set on a copy of a slice from a DataFrame.\n",
            "Try using .loc[row_indexer,col_indexer] = value instead\n",
            "\n",
            "See the caveats in the documentation: https://pandas.pydata.org/pandas-docs/stable/user_guide/indexing.html#returning-a-view-versus-a-copy\n",
            "/usr/local/lib/python3.7/dist-packages/ipykernel_launcher.py:69: SettingWithCopyWarning: \n",
            "A value is trying to be set on a copy of a slice from a DataFrame.\n",
            "Try using .loc[row_indexer,col_indexer] = value instead\n",
            "\n",
            "See the caveats in the documentation: https://pandas.pydata.org/pandas-docs/stable/user_guide/indexing.html#returning-a-view-versus-a-copy\n",
            "/usr/local/lib/python3.7/dist-packages/ipykernel_launcher.py:73: SettingWithCopyWarning: \n",
            "A value is trying to be set on a copy of a slice from a DataFrame.\n",
            "Try using .loc[row_indexer,col_indexer] = value instead\n",
            "\n",
            "See the caveats in the documentation: https://pandas.pydata.org/pandas-docs/stable/user_guide/indexing.html#returning-a-view-versus-a-copy\n",
            "/usr/local/lib/python3.7/dist-packages/ipykernel_launcher.py:77: SettingWithCopyWarning: \n",
            "A value is trying to be set on a copy of a slice from a DataFrame.\n",
            "Try using .loc[row_indexer,col_indexer] = value instead\n",
            "\n",
            "See the caveats in the documentation: https://pandas.pydata.org/pandas-docs/stable/user_guide/indexing.html#returning-a-view-versus-a-copy\n",
            "/usr/local/lib/python3.7/dist-packages/ipykernel_launcher.py:81: SettingWithCopyWarning: \n",
            "A value is trying to be set on a copy of a slice from a DataFrame.\n",
            "Try using .loc[row_indexer,col_indexer] = value instead\n",
            "\n",
            "See the caveats in the documentation: https://pandas.pydata.org/pandas-docs/stable/user_guide/indexing.html#returning-a-view-versus-a-copy\n",
            "/usr/local/lib/python3.7/dist-packages/lightgbm/basic.py:1205: UserWarning: Using categorical_feature in Dataset.\n",
            "  warnings.warn('Using categorical_feature in Dataset.')\n",
            "/usr/local/lib/python3.7/dist-packages/lightgbm/basic.py:762: UserWarning: categorical_feature in param dict is overridden.\n",
            "  warnings.warn('categorical_feature in param dict is overridden.')\n"
          ]
        },
        {
          "output_type": "stream",
          "name": "stdout",
          "text": [
            "Training until validation scores don't improve for 300 rounds.\n",
            "[300]\ttraining's multi_logloss: 0.809825\tvalid_1's multi_logloss: 0.841048\n",
            "[600]\ttraining's multi_logloss: 0.720178\tvalid_1's multi_logloss: 0.784273\n",
            "[900]\ttraining's multi_logloss: 0.670118\tvalid_1's multi_logloss: 0.765686\n",
            "[1200]\ttraining's multi_logloss: 0.632429\tvalid_1's multi_logloss: 0.758214\n",
            "[1500]\ttraining's multi_logloss: 0.601052\tvalid_1's multi_logloss: 0.752852\n",
            "[1800]\ttraining's multi_logloss: 0.573873\tvalid_1's multi_logloss: 0.748357\n",
            "[2100]\ttraining's multi_logloss: 0.549308\tvalid_1's multi_logloss: 0.74619\n",
            "[2400]\ttraining's multi_logloss: 0.527341\tvalid_1's multi_logloss: 0.74515\n",
            "Early stopping, best iteration is:\n",
            "[2341]\ttraining's multi_logloss: 0.531488\tvalid_1's multi_logloss: 0.745016\n",
            "------------------------------ fold 5 ------------------------------\n"
          ]
        },
        {
          "output_type": "stream",
          "name": "stderr",
          "text": [
            "/usr/local/lib/python3.7/dist-packages/ipykernel_launcher.py:31: SettingWithCopyWarning: \n",
            "A value is trying to be set on a copy of a slice from a DataFrame.\n",
            "Try using .loc[row_indexer,col_indexer] = value instead\n",
            "\n",
            "See the caveats in the documentation: https://pandas.pydata.org/pandas-docs/stable/user_guide/indexing.html#returning-a-view-versus-a-copy\n",
            "/usr/local/lib/python3.7/dist-packages/ipykernel_launcher.py:69: SettingWithCopyWarning: \n",
            "A value is trying to be set on a copy of a slice from a DataFrame.\n",
            "Try using .loc[row_indexer,col_indexer] = value instead\n",
            "\n",
            "See the caveats in the documentation: https://pandas.pydata.org/pandas-docs/stable/user_guide/indexing.html#returning-a-view-versus-a-copy\n",
            "/usr/local/lib/python3.7/dist-packages/ipykernel_launcher.py:73: SettingWithCopyWarning: \n",
            "A value is trying to be set on a copy of a slice from a DataFrame.\n",
            "Try using .loc[row_indexer,col_indexer] = value instead\n",
            "\n",
            "See the caveats in the documentation: https://pandas.pydata.org/pandas-docs/stable/user_guide/indexing.html#returning-a-view-versus-a-copy\n",
            "/usr/local/lib/python3.7/dist-packages/ipykernel_launcher.py:77: SettingWithCopyWarning: \n",
            "A value is trying to be set on a copy of a slice from a DataFrame.\n",
            "Try using .loc[row_indexer,col_indexer] = value instead\n",
            "\n",
            "See the caveats in the documentation: https://pandas.pydata.org/pandas-docs/stable/user_guide/indexing.html#returning-a-view-versus-a-copy\n",
            "/usr/local/lib/python3.7/dist-packages/ipykernel_launcher.py:81: SettingWithCopyWarning: \n",
            "A value is trying to be set on a copy of a slice from a DataFrame.\n",
            "Try using .loc[row_indexer,col_indexer] = value instead\n",
            "\n",
            "See the caveats in the documentation: https://pandas.pydata.org/pandas-docs/stable/user_guide/indexing.html#returning-a-view-versus-a-copy\n",
            "/usr/local/lib/python3.7/dist-packages/lightgbm/basic.py:1205: UserWarning: Using categorical_feature in Dataset.\n",
            "  warnings.warn('Using categorical_feature in Dataset.')\n",
            "/usr/local/lib/python3.7/dist-packages/lightgbm/basic.py:762: UserWarning: categorical_feature in param dict is overridden.\n",
            "  warnings.warn('categorical_feature in param dict is overridden.')\n"
          ]
        },
        {
          "output_type": "stream",
          "name": "stdout",
          "text": [
            "Training until validation scores don't improve for 300 rounds.\n",
            "[300]\ttraining's multi_logloss: 0.80771\tvalid_1's multi_logloss: 0.859889\n",
            "[600]\ttraining's multi_logloss: 0.716155\tvalid_1's multi_logloss: 0.82003\n",
            "[900]\ttraining's multi_logloss: 0.664971\tvalid_1's multi_logloss: 0.808276\n",
            "[1200]\ttraining's multi_logloss: 0.62687\tvalid_1's multi_logloss: 0.804565\n",
            "[1500]\ttraining's multi_logloss: 0.594818\tvalid_1's multi_logloss: 0.801587\n",
            "[1800]\ttraining's multi_logloss: 0.566434\tvalid_1's multi_logloss: 0.801793\n",
            "Early stopping, best iteration is:\n",
            "[1586]\ttraining's multi_logloss: 0.586272\tvalid_1's multi_logloss: 0.800955\n",
            "------------------------------ fold 6 ------------------------------\n"
          ]
        },
        {
          "output_type": "stream",
          "name": "stderr",
          "text": [
            "/usr/local/lib/python3.7/dist-packages/ipykernel_launcher.py:31: SettingWithCopyWarning: \n",
            "A value is trying to be set on a copy of a slice from a DataFrame.\n",
            "Try using .loc[row_indexer,col_indexer] = value instead\n",
            "\n",
            "See the caveats in the documentation: https://pandas.pydata.org/pandas-docs/stable/user_guide/indexing.html#returning-a-view-versus-a-copy\n",
            "/usr/local/lib/python3.7/dist-packages/ipykernel_launcher.py:69: SettingWithCopyWarning: \n",
            "A value is trying to be set on a copy of a slice from a DataFrame.\n",
            "Try using .loc[row_indexer,col_indexer] = value instead\n",
            "\n",
            "See the caveats in the documentation: https://pandas.pydata.org/pandas-docs/stable/user_guide/indexing.html#returning-a-view-versus-a-copy\n",
            "/usr/local/lib/python3.7/dist-packages/ipykernel_launcher.py:73: SettingWithCopyWarning: \n",
            "A value is trying to be set on a copy of a slice from a DataFrame.\n",
            "Try using .loc[row_indexer,col_indexer] = value instead\n",
            "\n",
            "See the caveats in the documentation: https://pandas.pydata.org/pandas-docs/stable/user_guide/indexing.html#returning-a-view-versus-a-copy\n",
            "/usr/local/lib/python3.7/dist-packages/ipykernel_launcher.py:77: SettingWithCopyWarning: \n",
            "A value is trying to be set on a copy of a slice from a DataFrame.\n",
            "Try using .loc[row_indexer,col_indexer] = value instead\n",
            "\n",
            "See the caveats in the documentation: https://pandas.pydata.org/pandas-docs/stable/user_guide/indexing.html#returning-a-view-versus-a-copy\n",
            "/usr/local/lib/python3.7/dist-packages/ipykernel_launcher.py:81: SettingWithCopyWarning: \n",
            "A value is trying to be set on a copy of a slice from a DataFrame.\n",
            "Try using .loc[row_indexer,col_indexer] = value instead\n",
            "\n",
            "See the caveats in the documentation: https://pandas.pydata.org/pandas-docs/stable/user_guide/indexing.html#returning-a-view-versus-a-copy\n",
            "/usr/local/lib/python3.7/dist-packages/lightgbm/basic.py:1205: UserWarning: Using categorical_feature in Dataset.\n",
            "  warnings.warn('Using categorical_feature in Dataset.')\n",
            "/usr/local/lib/python3.7/dist-packages/lightgbm/basic.py:762: UserWarning: categorical_feature in param dict is overridden.\n",
            "  warnings.warn('categorical_feature in param dict is overridden.')\n"
          ]
        },
        {
          "output_type": "stream",
          "name": "stdout",
          "text": [
            "Training until validation scores don't improve for 300 rounds.\n",
            "[300]\ttraining's multi_logloss: 0.818225\tvalid_1's multi_logloss: 0.769425\n",
            "[600]\ttraining's multi_logloss: 0.727433\tvalid_1's multi_logloss: 0.702259\n",
            "[900]\ttraining's multi_logloss: 0.676469\tvalid_1's multi_logloss: 0.67551\n",
            "[1200]\ttraining's multi_logloss: 0.638209\tvalid_1's multi_logloss: 0.666211\n",
            "[1500]\ttraining's multi_logloss: 0.606155\tvalid_1's multi_logloss: 0.662105\n",
            "[1800]\ttraining's multi_logloss: 0.579113\tvalid_1's multi_logloss: 0.66034\n",
            "[2100]\ttraining's multi_logloss: 0.555016\tvalid_1's multi_logloss: 0.660874\n",
            "Early stopping, best iteration is:\n",
            "[1834]\ttraining's multi_logloss: 0.576264\tvalid_1's multi_logloss: 0.65997\n",
            "------------------------------ fold 7 ------------------------------\n"
          ]
        },
        {
          "output_type": "stream",
          "name": "stderr",
          "text": [
            "/usr/local/lib/python3.7/dist-packages/ipykernel_launcher.py:31: SettingWithCopyWarning: \n",
            "A value is trying to be set on a copy of a slice from a DataFrame.\n",
            "Try using .loc[row_indexer,col_indexer] = value instead\n",
            "\n",
            "See the caveats in the documentation: https://pandas.pydata.org/pandas-docs/stable/user_guide/indexing.html#returning-a-view-versus-a-copy\n",
            "/usr/local/lib/python3.7/dist-packages/ipykernel_launcher.py:69: SettingWithCopyWarning: \n",
            "A value is trying to be set on a copy of a slice from a DataFrame.\n",
            "Try using .loc[row_indexer,col_indexer] = value instead\n",
            "\n",
            "See the caveats in the documentation: https://pandas.pydata.org/pandas-docs/stable/user_guide/indexing.html#returning-a-view-versus-a-copy\n",
            "/usr/local/lib/python3.7/dist-packages/ipykernel_launcher.py:73: SettingWithCopyWarning: \n",
            "A value is trying to be set on a copy of a slice from a DataFrame.\n",
            "Try using .loc[row_indexer,col_indexer] = value instead\n",
            "\n",
            "See the caveats in the documentation: https://pandas.pydata.org/pandas-docs/stable/user_guide/indexing.html#returning-a-view-versus-a-copy\n",
            "/usr/local/lib/python3.7/dist-packages/ipykernel_launcher.py:77: SettingWithCopyWarning: \n",
            "A value is trying to be set on a copy of a slice from a DataFrame.\n",
            "Try using .loc[row_indexer,col_indexer] = value instead\n",
            "\n",
            "See the caveats in the documentation: https://pandas.pydata.org/pandas-docs/stable/user_guide/indexing.html#returning-a-view-versus-a-copy\n",
            "/usr/local/lib/python3.7/dist-packages/ipykernel_launcher.py:81: SettingWithCopyWarning: \n",
            "A value is trying to be set on a copy of a slice from a DataFrame.\n",
            "Try using .loc[row_indexer,col_indexer] = value instead\n",
            "\n",
            "See the caveats in the documentation: https://pandas.pydata.org/pandas-docs/stable/user_guide/indexing.html#returning-a-view-versus-a-copy\n",
            "/usr/local/lib/python3.7/dist-packages/lightgbm/basic.py:1205: UserWarning: Using categorical_feature in Dataset.\n",
            "  warnings.warn('Using categorical_feature in Dataset.')\n",
            "/usr/local/lib/python3.7/dist-packages/lightgbm/basic.py:762: UserWarning: categorical_feature in param dict is overridden.\n",
            "  warnings.warn('categorical_feature in param dict is overridden.')\n"
          ]
        },
        {
          "output_type": "stream",
          "name": "stdout",
          "text": [
            "Training until validation scores don't improve for 300 rounds.\n",
            "[300]\ttraining's multi_logloss: 0.803909\tvalid_1's multi_logloss: 0.90469\n",
            "[600]\ttraining's multi_logloss: 0.712716\tvalid_1's multi_logloss: 0.85811\n",
            "[900]\ttraining's multi_logloss: 0.662152\tvalid_1's multi_logloss: 0.845824\n",
            "[1200]\ttraining's multi_logloss: 0.62522\tvalid_1's multi_logloss: 0.847378\n",
            "Early stopping, best iteration is:\n",
            "[1052]\ttraining's multi_logloss: 0.642192\tvalid_1's multi_logloss: 0.844867\n",
            "------------------------------ fold 8 ------------------------------\n"
          ]
        },
        {
          "output_type": "stream",
          "name": "stderr",
          "text": [
            "/usr/local/lib/python3.7/dist-packages/ipykernel_launcher.py:31: SettingWithCopyWarning: \n",
            "A value is trying to be set on a copy of a slice from a DataFrame.\n",
            "Try using .loc[row_indexer,col_indexer] = value instead\n",
            "\n",
            "See the caveats in the documentation: https://pandas.pydata.org/pandas-docs/stable/user_guide/indexing.html#returning-a-view-versus-a-copy\n",
            "/usr/local/lib/python3.7/dist-packages/ipykernel_launcher.py:69: SettingWithCopyWarning: \n",
            "A value is trying to be set on a copy of a slice from a DataFrame.\n",
            "Try using .loc[row_indexer,col_indexer] = value instead\n",
            "\n",
            "See the caveats in the documentation: https://pandas.pydata.org/pandas-docs/stable/user_guide/indexing.html#returning-a-view-versus-a-copy\n",
            "/usr/local/lib/python3.7/dist-packages/ipykernel_launcher.py:73: SettingWithCopyWarning: \n",
            "A value is trying to be set on a copy of a slice from a DataFrame.\n",
            "Try using .loc[row_indexer,col_indexer] = value instead\n",
            "\n",
            "See the caveats in the documentation: https://pandas.pydata.org/pandas-docs/stable/user_guide/indexing.html#returning-a-view-versus-a-copy\n",
            "/usr/local/lib/python3.7/dist-packages/ipykernel_launcher.py:77: SettingWithCopyWarning: \n",
            "A value is trying to be set on a copy of a slice from a DataFrame.\n",
            "Try using .loc[row_indexer,col_indexer] = value instead\n",
            "\n",
            "See the caveats in the documentation: https://pandas.pydata.org/pandas-docs/stable/user_guide/indexing.html#returning-a-view-versus-a-copy\n",
            "/usr/local/lib/python3.7/dist-packages/ipykernel_launcher.py:81: SettingWithCopyWarning: \n",
            "A value is trying to be set on a copy of a slice from a DataFrame.\n",
            "Try using .loc[row_indexer,col_indexer] = value instead\n",
            "\n",
            "See the caveats in the documentation: https://pandas.pydata.org/pandas-docs/stable/user_guide/indexing.html#returning-a-view-versus-a-copy\n",
            "/usr/local/lib/python3.7/dist-packages/lightgbm/basic.py:1205: UserWarning: Using categorical_feature in Dataset.\n",
            "  warnings.warn('Using categorical_feature in Dataset.')\n",
            "/usr/local/lib/python3.7/dist-packages/lightgbm/basic.py:762: UserWarning: categorical_feature in param dict is overridden.\n",
            "  warnings.warn('categorical_feature in param dict is overridden.')\n"
          ]
        },
        {
          "output_type": "stream",
          "name": "stdout",
          "text": [
            "Training until validation scores don't improve for 300 rounds.\n",
            "[300]\ttraining's multi_logloss: 0.810748\tvalid_1's multi_logloss: 0.939193\n",
            "[600]\ttraining's multi_logloss: 0.72009\tvalid_1's multi_logloss: 0.898152\n",
            "[900]\ttraining's multi_logloss: 0.668766\tvalid_1's multi_logloss: 0.881081\n",
            "[1200]\ttraining's multi_logloss: 0.629697\tvalid_1's multi_logloss: 0.870778\n",
            "[1500]\ttraining's multi_logloss: 0.598503\tvalid_1's multi_logloss: 0.865845\n",
            "[1800]\ttraining's multi_logloss: 0.571545\tvalid_1's multi_logloss: 0.861447\n",
            "[2100]\ttraining's multi_logloss: 0.547358\tvalid_1's multi_logloss: 0.857825\n",
            "[2400]\ttraining's multi_logloss: 0.525342\tvalid_1's multi_logloss: 0.855864\n",
            "Early stopping, best iteration is:\n",
            "[2333]\ttraining's multi_logloss: 0.530112\tvalid_1's multi_logloss: 0.855499\n",
            "------------------------------ fold 9 ------------------------------\n"
          ]
        },
        {
          "output_type": "stream",
          "name": "stderr",
          "text": [
            "/usr/local/lib/python3.7/dist-packages/ipykernel_launcher.py:31: SettingWithCopyWarning: \n",
            "A value is trying to be set on a copy of a slice from a DataFrame.\n",
            "Try using .loc[row_indexer,col_indexer] = value instead\n",
            "\n",
            "See the caveats in the documentation: https://pandas.pydata.org/pandas-docs/stable/user_guide/indexing.html#returning-a-view-versus-a-copy\n",
            "/usr/local/lib/python3.7/dist-packages/ipykernel_launcher.py:69: SettingWithCopyWarning: \n",
            "A value is trying to be set on a copy of a slice from a DataFrame.\n",
            "Try using .loc[row_indexer,col_indexer] = value instead\n",
            "\n",
            "See the caveats in the documentation: https://pandas.pydata.org/pandas-docs/stable/user_guide/indexing.html#returning-a-view-versus-a-copy\n",
            "/usr/local/lib/python3.7/dist-packages/ipykernel_launcher.py:73: SettingWithCopyWarning: \n",
            "A value is trying to be set on a copy of a slice from a DataFrame.\n",
            "Try using .loc[row_indexer,col_indexer] = value instead\n",
            "\n",
            "See the caveats in the documentation: https://pandas.pydata.org/pandas-docs/stable/user_guide/indexing.html#returning-a-view-versus-a-copy\n",
            "/usr/local/lib/python3.7/dist-packages/ipykernel_launcher.py:77: SettingWithCopyWarning: \n",
            "A value is trying to be set on a copy of a slice from a DataFrame.\n",
            "Try using .loc[row_indexer,col_indexer] = value instead\n",
            "\n",
            "See the caveats in the documentation: https://pandas.pydata.org/pandas-docs/stable/user_guide/indexing.html#returning-a-view-versus-a-copy\n",
            "/usr/local/lib/python3.7/dist-packages/ipykernel_launcher.py:81: SettingWithCopyWarning: \n",
            "A value is trying to be set on a copy of a slice from a DataFrame.\n",
            "Try using .loc[row_indexer,col_indexer] = value instead\n",
            "\n",
            "See the caveats in the documentation: https://pandas.pydata.org/pandas-docs/stable/user_guide/indexing.html#returning-a-view-versus-a-copy\n",
            "/usr/local/lib/python3.7/dist-packages/lightgbm/basic.py:1205: UserWarning: Using categorical_feature in Dataset.\n",
            "  warnings.warn('Using categorical_feature in Dataset.')\n",
            "/usr/local/lib/python3.7/dist-packages/lightgbm/basic.py:762: UserWarning: categorical_feature in param dict is overridden.\n",
            "  warnings.warn('categorical_feature in param dict is overridden.')\n"
          ]
        },
        {
          "output_type": "stream",
          "name": "stdout",
          "text": [
            "Training until validation scores don't improve for 300 rounds.\n",
            "[300]\ttraining's multi_logloss: 0.803702\tvalid_1's multi_logloss: 0.967876\n",
            "[600]\ttraining's multi_logloss: 0.715201\tvalid_1's multi_logloss: 0.917566\n",
            "[900]\ttraining's multi_logloss: 0.66439\tvalid_1's multi_logloss: 0.891331\n",
            "[1200]\ttraining's multi_logloss: 0.627388\tvalid_1's multi_logloss: 0.879013\n",
            "[1500]\ttraining's multi_logloss: 0.596566\tvalid_1's multi_logloss: 0.874986\n",
            "[1800]\ttraining's multi_logloss: 0.5696\tvalid_1's multi_logloss: 0.873452\n",
            "[2100]\ttraining's multi_logloss: 0.545147\tvalid_1's multi_logloss: 0.87377\n",
            "Early stopping, best iteration is:\n",
            "[2022]\ttraining's multi_logloss: 0.551439\tvalid_1's multi_logloss: 0.873071\n",
            "------------------------------ fold 10 ------------------------------\n"
          ]
        },
        {
          "output_type": "stream",
          "name": "stderr",
          "text": [
            "/usr/local/lib/python3.7/dist-packages/ipykernel_launcher.py:31: SettingWithCopyWarning: \n",
            "A value is trying to be set on a copy of a slice from a DataFrame.\n",
            "Try using .loc[row_indexer,col_indexer] = value instead\n",
            "\n",
            "See the caveats in the documentation: https://pandas.pydata.org/pandas-docs/stable/user_guide/indexing.html#returning-a-view-versus-a-copy\n",
            "/usr/local/lib/python3.7/dist-packages/ipykernel_launcher.py:69: SettingWithCopyWarning: \n",
            "A value is trying to be set on a copy of a slice from a DataFrame.\n",
            "Try using .loc[row_indexer,col_indexer] = value instead\n",
            "\n",
            "See the caveats in the documentation: https://pandas.pydata.org/pandas-docs/stable/user_guide/indexing.html#returning-a-view-versus-a-copy\n",
            "/usr/local/lib/python3.7/dist-packages/ipykernel_launcher.py:73: SettingWithCopyWarning: \n",
            "A value is trying to be set on a copy of a slice from a DataFrame.\n",
            "Try using .loc[row_indexer,col_indexer] = value instead\n",
            "\n",
            "See the caveats in the documentation: https://pandas.pydata.org/pandas-docs/stable/user_guide/indexing.html#returning-a-view-versus-a-copy\n",
            "/usr/local/lib/python3.7/dist-packages/ipykernel_launcher.py:77: SettingWithCopyWarning: \n",
            "A value is trying to be set on a copy of a slice from a DataFrame.\n",
            "Try using .loc[row_indexer,col_indexer] = value instead\n",
            "\n",
            "See the caveats in the documentation: https://pandas.pydata.org/pandas-docs/stable/user_guide/indexing.html#returning-a-view-versus-a-copy\n",
            "/usr/local/lib/python3.7/dist-packages/ipykernel_launcher.py:81: SettingWithCopyWarning: \n",
            "A value is trying to be set on a copy of a slice from a DataFrame.\n",
            "Try using .loc[row_indexer,col_indexer] = value instead\n",
            "\n",
            "See the caveats in the documentation: https://pandas.pydata.org/pandas-docs/stable/user_guide/indexing.html#returning-a-view-versus-a-copy\n",
            "/usr/local/lib/python3.7/dist-packages/lightgbm/basic.py:1205: UserWarning: Using categorical_feature in Dataset.\n",
            "  warnings.warn('Using categorical_feature in Dataset.')\n",
            "/usr/local/lib/python3.7/dist-packages/lightgbm/basic.py:762: UserWarning: categorical_feature in param dict is overridden.\n",
            "  warnings.warn('categorical_feature in param dict is overridden.')\n"
          ]
        },
        {
          "output_type": "stream",
          "name": "stdout",
          "text": [
            "Training until validation scores don't improve for 300 rounds.\n",
            "[300]\ttraining's multi_logloss: 0.819755\tvalid_1's multi_logloss: 0.851871\n",
            "[600]\ttraining's multi_logloss: 0.728673\tvalid_1's multi_logloss: 0.801634\n",
            "[900]\ttraining's multi_logloss: 0.677518\tvalid_1's multi_logloss: 0.786131\n",
            "[1200]\ttraining's multi_logloss: 0.639544\tvalid_1's multi_logloss: 0.787655\n",
            "Early stopping, best iteration is:\n",
            "[994]\ttraining's multi_logloss: 0.664523\tvalid_1's multi_logloss: 0.785536\n",
            "------------------------------ fold 11 ------------------------------\n"
          ]
        },
        {
          "output_type": "stream",
          "name": "stderr",
          "text": [
            "/usr/local/lib/python3.7/dist-packages/ipykernel_launcher.py:31: SettingWithCopyWarning: \n",
            "A value is trying to be set on a copy of a slice from a DataFrame.\n",
            "Try using .loc[row_indexer,col_indexer] = value instead\n",
            "\n",
            "See the caveats in the documentation: https://pandas.pydata.org/pandas-docs/stable/user_guide/indexing.html#returning-a-view-versus-a-copy\n",
            "/usr/local/lib/python3.7/dist-packages/ipykernel_launcher.py:69: SettingWithCopyWarning: \n",
            "A value is trying to be set on a copy of a slice from a DataFrame.\n",
            "Try using .loc[row_indexer,col_indexer] = value instead\n",
            "\n",
            "See the caveats in the documentation: https://pandas.pydata.org/pandas-docs/stable/user_guide/indexing.html#returning-a-view-versus-a-copy\n",
            "/usr/local/lib/python3.7/dist-packages/ipykernel_launcher.py:73: SettingWithCopyWarning: \n",
            "A value is trying to be set on a copy of a slice from a DataFrame.\n",
            "Try using .loc[row_indexer,col_indexer] = value instead\n",
            "\n",
            "See the caveats in the documentation: https://pandas.pydata.org/pandas-docs/stable/user_guide/indexing.html#returning-a-view-versus-a-copy\n",
            "/usr/local/lib/python3.7/dist-packages/ipykernel_launcher.py:77: SettingWithCopyWarning: \n",
            "A value is trying to be set on a copy of a slice from a DataFrame.\n",
            "Try using .loc[row_indexer,col_indexer] = value instead\n",
            "\n",
            "See the caveats in the documentation: https://pandas.pydata.org/pandas-docs/stable/user_guide/indexing.html#returning-a-view-versus-a-copy\n",
            "/usr/local/lib/python3.7/dist-packages/ipykernel_launcher.py:81: SettingWithCopyWarning: \n",
            "A value is trying to be set on a copy of a slice from a DataFrame.\n",
            "Try using .loc[row_indexer,col_indexer] = value instead\n",
            "\n",
            "See the caveats in the documentation: https://pandas.pydata.org/pandas-docs/stable/user_guide/indexing.html#returning-a-view-versus-a-copy\n",
            "/usr/local/lib/python3.7/dist-packages/lightgbm/basic.py:1205: UserWarning: Using categorical_feature in Dataset.\n",
            "  warnings.warn('Using categorical_feature in Dataset.')\n",
            "/usr/local/lib/python3.7/dist-packages/lightgbm/basic.py:762: UserWarning: categorical_feature in param dict is overridden.\n",
            "  warnings.warn('categorical_feature in param dict is overridden.')\n"
          ]
        },
        {
          "output_type": "stream",
          "name": "stdout",
          "text": [
            "Training until validation scores don't improve for 300 rounds.\n",
            "[300]\ttraining's multi_logloss: 0.819607\tvalid_1's multi_logloss: 0.836632\n",
            "[600]\ttraining's multi_logloss: 0.726586\tvalid_1's multi_logloss: 0.793792\n",
            "[900]\ttraining's multi_logloss: 0.67542\tvalid_1's multi_logloss: 0.779085\n",
            "[1200]\ttraining's multi_logloss: 0.638498\tvalid_1's multi_logloss: 0.775111\n",
            "[1500]\ttraining's multi_logloss: 0.607834\tvalid_1's multi_logloss: 0.775392\n",
            "Early stopping, best iteration is:\n",
            "[1336]\ttraining's multi_logloss: 0.624095\tvalid_1's multi_logloss: 0.774465\n",
            "------------------------------ fold 12 ------------------------------\n"
          ]
        },
        {
          "output_type": "stream",
          "name": "stderr",
          "text": [
            "/usr/local/lib/python3.7/dist-packages/ipykernel_launcher.py:31: SettingWithCopyWarning: \n",
            "A value is trying to be set on a copy of a slice from a DataFrame.\n",
            "Try using .loc[row_indexer,col_indexer] = value instead\n",
            "\n",
            "See the caveats in the documentation: https://pandas.pydata.org/pandas-docs/stable/user_guide/indexing.html#returning-a-view-versus-a-copy\n",
            "/usr/local/lib/python3.7/dist-packages/ipykernel_launcher.py:69: SettingWithCopyWarning: \n",
            "A value is trying to be set on a copy of a slice from a DataFrame.\n",
            "Try using .loc[row_indexer,col_indexer] = value instead\n",
            "\n",
            "See the caveats in the documentation: https://pandas.pydata.org/pandas-docs/stable/user_guide/indexing.html#returning-a-view-versus-a-copy\n",
            "/usr/local/lib/python3.7/dist-packages/ipykernel_launcher.py:73: SettingWithCopyWarning: \n",
            "A value is trying to be set on a copy of a slice from a DataFrame.\n",
            "Try using .loc[row_indexer,col_indexer] = value instead\n",
            "\n",
            "See the caveats in the documentation: https://pandas.pydata.org/pandas-docs/stable/user_guide/indexing.html#returning-a-view-versus-a-copy\n",
            "/usr/local/lib/python3.7/dist-packages/ipykernel_launcher.py:77: SettingWithCopyWarning: \n",
            "A value is trying to be set on a copy of a slice from a DataFrame.\n",
            "Try using .loc[row_indexer,col_indexer] = value instead\n",
            "\n",
            "See the caveats in the documentation: https://pandas.pydata.org/pandas-docs/stable/user_guide/indexing.html#returning-a-view-versus-a-copy\n",
            "/usr/local/lib/python3.7/dist-packages/ipykernel_launcher.py:81: SettingWithCopyWarning: \n",
            "A value is trying to be set on a copy of a slice from a DataFrame.\n",
            "Try using .loc[row_indexer,col_indexer] = value instead\n",
            "\n",
            "See the caveats in the documentation: https://pandas.pydata.org/pandas-docs/stable/user_guide/indexing.html#returning-a-view-versus-a-copy\n",
            "/usr/local/lib/python3.7/dist-packages/lightgbm/basic.py:1205: UserWarning: Using categorical_feature in Dataset.\n",
            "  warnings.warn('Using categorical_feature in Dataset.')\n",
            "/usr/local/lib/python3.7/dist-packages/lightgbm/basic.py:762: UserWarning: categorical_feature in param dict is overridden.\n",
            "  warnings.warn('categorical_feature in param dict is overridden.')\n"
          ]
        },
        {
          "output_type": "stream",
          "name": "stdout",
          "text": [
            "Training until validation scores don't improve for 300 rounds.\n",
            "[300]\ttraining's multi_logloss: 0.811885\tvalid_1's multi_logloss: 0.929027\n",
            "[600]\ttraining's multi_logloss: 0.720815\tvalid_1's multi_logloss: 0.880308\n",
            "[900]\ttraining's multi_logloss: 0.67087\tvalid_1's multi_logloss: 0.862312\n",
            "[1200]\ttraining's multi_logloss: 0.633621\tvalid_1's multi_logloss: 0.854962\n",
            "[1500]\ttraining's multi_logloss: 0.602655\tvalid_1's multi_logloss: 0.849482\n",
            "[1800]\ttraining's multi_logloss: 0.575679\tvalid_1's multi_logloss: 0.846251\n",
            "[2100]\ttraining's multi_logloss: 0.55157\tvalid_1's multi_logloss: 0.845817\n",
            "[2400]\ttraining's multi_logloss: 0.5299\tvalid_1's multi_logloss: 0.84533\n",
            "Early stopping, best iteration is:\n",
            "[2259]\ttraining's multi_logloss: 0.539879\tvalid_1's multi_logloss: 0.84515\n",
            "------------------------------ fold 13 ------------------------------\n"
          ]
        },
        {
          "output_type": "stream",
          "name": "stderr",
          "text": [
            "/usr/local/lib/python3.7/dist-packages/ipykernel_launcher.py:31: SettingWithCopyWarning: \n",
            "A value is trying to be set on a copy of a slice from a DataFrame.\n",
            "Try using .loc[row_indexer,col_indexer] = value instead\n",
            "\n",
            "See the caveats in the documentation: https://pandas.pydata.org/pandas-docs/stable/user_guide/indexing.html#returning-a-view-versus-a-copy\n",
            "/usr/local/lib/python3.7/dist-packages/ipykernel_launcher.py:69: SettingWithCopyWarning: \n",
            "A value is trying to be set on a copy of a slice from a DataFrame.\n",
            "Try using .loc[row_indexer,col_indexer] = value instead\n",
            "\n",
            "See the caveats in the documentation: https://pandas.pydata.org/pandas-docs/stable/user_guide/indexing.html#returning-a-view-versus-a-copy\n",
            "/usr/local/lib/python3.7/dist-packages/ipykernel_launcher.py:73: SettingWithCopyWarning: \n",
            "A value is trying to be set on a copy of a slice from a DataFrame.\n",
            "Try using .loc[row_indexer,col_indexer] = value instead\n",
            "\n",
            "See the caveats in the documentation: https://pandas.pydata.org/pandas-docs/stable/user_guide/indexing.html#returning-a-view-versus-a-copy\n",
            "/usr/local/lib/python3.7/dist-packages/ipykernel_launcher.py:77: SettingWithCopyWarning: \n",
            "A value is trying to be set on a copy of a slice from a DataFrame.\n",
            "Try using .loc[row_indexer,col_indexer] = value instead\n",
            "\n",
            "See the caveats in the documentation: https://pandas.pydata.org/pandas-docs/stable/user_guide/indexing.html#returning-a-view-versus-a-copy\n",
            "/usr/local/lib/python3.7/dist-packages/ipykernel_launcher.py:81: SettingWithCopyWarning: \n",
            "A value is trying to be set on a copy of a slice from a DataFrame.\n",
            "Try using .loc[row_indexer,col_indexer] = value instead\n",
            "\n",
            "See the caveats in the documentation: https://pandas.pydata.org/pandas-docs/stable/user_guide/indexing.html#returning-a-view-versus-a-copy\n",
            "/usr/local/lib/python3.7/dist-packages/lightgbm/basic.py:1205: UserWarning: Using categorical_feature in Dataset.\n",
            "  warnings.warn('Using categorical_feature in Dataset.')\n",
            "/usr/local/lib/python3.7/dist-packages/lightgbm/basic.py:762: UserWarning: categorical_feature in param dict is overridden.\n",
            "  warnings.warn('categorical_feature in param dict is overridden.')\n"
          ]
        },
        {
          "output_type": "stream",
          "name": "stdout",
          "text": [
            "Training until validation scores don't improve for 300 rounds.\n",
            "[300]\ttraining's multi_logloss: 0.806614\tvalid_1's multi_logloss: 0.902666\n",
            "[600]\ttraining's multi_logloss: 0.715472\tvalid_1's multi_logloss: 0.854855\n",
            "[900]\ttraining's multi_logloss: 0.666196\tvalid_1's multi_logloss: 0.839889\n",
            "[1200]\ttraining's multi_logloss: 0.629467\tvalid_1's multi_logloss: 0.83191\n",
            "[1500]\ttraining's multi_logloss: 0.598602\tvalid_1's multi_logloss: 0.82738\n",
            "[1800]\ttraining's multi_logloss: 0.57233\tvalid_1's multi_logloss: 0.825677\n",
            "[2100]\ttraining's multi_logloss: 0.548806\tvalid_1's multi_logloss: 0.824762\n",
            "[2400]\ttraining's multi_logloss: 0.527317\tvalid_1's multi_logloss: 0.824112\n",
            "[2700]\ttraining's multi_logloss: 0.507296\tvalid_1's multi_logloss: 0.823818\n",
            "Early stopping, best iteration is:\n",
            "[2639]\ttraining's multi_logloss: 0.511237\tvalid_1's multi_logloss: 0.823572\n",
            "------------------------------ fold 14 ------------------------------\n"
          ]
        },
        {
          "output_type": "stream",
          "name": "stderr",
          "text": [
            "/usr/local/lib/python3.7/dist-packages/ipykernel_launcher.py:31: SettingWithCopyWarning: \n",
            "A value is trying to be set on a copy of a slice from a DataFrame.\n",
            "Try using .loc[row_indexer,col_indexer] = value instead\n",
            "\n",
            "See the caveats in the documentation: https://pandas.pydata.org/pandas-docs/stable/user_guide/indexing.html#returning-a-view-versus-a-copy\n",
            "/usr/local/lib/python3.7/dist-packages/ipykernel_launcher.py:69: SettingWithCopyWarning: \n",
            "A value is trying to be set on a copy of a slice from a DataFrame.\n",
            "Try using .loc[row_indexer,col_indexer] = value instead\n",
            "\n",
            "See the caveats in the documentation: https://pandas.pydata.org/pandas-docs/stable/user_guide/indexing.html#returning-a-view-versus-a-copy\n",
            "/usr/local/lib/python3.7/dist-packages/ipykernel_launcher.py:73: SettingWithCopyWarning: \n",
            "A value is trying to be set on a copy of a slice from a DataFrame.\n",
            "Try using .loc[row_indexer,col_indexer] = value instead\n",
            "\n",
            "See the caveats in the documentation: https://pandas.pydata.org/pandas-docs/stable/user_guide/indexing.html#returning-a-view-versus-a-copy\n",
            "/usr/local/lib/python3.7/dist-packages/ipykernel_launcher.py:77: SettingWithCopyWarning: \n",
            "A value is trying to be set on a copy of a slice from a DataFrame.\n",
            "Try using .loc[row_indexer,col_indexer] = value instead\n",
            "\n",
            "See the caveats in the documentation: https://pandas.pydata.org/pandas-docs/stable/user_guide/indexing.html#returning-a-view-versus-a-copy\n",
            "/usr/local/lib/python3.7/dist-packages/ipykernel_launcher.py:81: SettingWithCopyWarning: \n",
            "A value is trying to be set on a copy of a slice from a DataFrame.\n",
            "Try using .loc[row_indexer,col_indexer] = value instead\n",
            "\n",
            "See the caveats in the documentation: https://pandas.pydata.org/pandas-docs/stable/user_guide/indexing.html#returning-a-view-versus-a-copy\n",
            "/usr/local/lib/python3.7/dist-packages/lightgbm/basic.py:1205: UserWarning: Using categorical_feature in Dataset.\n",
            "  warnings.warn('Using categorical_feature in Dataset.')\n",
            "/usr/local/lib/python3.7/dist-packages/lightgbm/basic.py:762: UserWarning: categorical_feature in param dict is overridden.\n",
            "  warnings.warn('categorical_feature in param dict is overridden.')\n"
          ]
        },
        {
          "output_type": "stream",
          "name": "stdout",
          "text": [
            "Training until validation scores don't improve for 300 rounds.\n",
            "[300]\ttraining's multi_logloss: 0.814998\tvalid_1's multi_logloss: 0.841352\n",
            "[600]\ttraining's multi_logloss: 0.72309\tvalid_1's multi_logloss: 0.795662\n",
            "[900]\ttraining's multi_logloss: 0.672712\tvalid_1's multi_logloss: 0.784092\n",
            "[1200]\ttraining's multi_logloss: 0.635007\tvalid_1's multi_logloss: 0.781989\n",
            "[1500]\ttraining's multi_logloss: 0.603022\tvalid_1's multi_logloss: 0.783111\n",
            "Early stopping, best iteration is:\n",
            "[1292]\ttraining's multi_logloss: 0.624774\tvalid_1's multi_logloss: 0.781813\n",
            "\n"
          ]
        }
      ]
    },
    {
      "cell_type": "code",
      "source": [
        "df_test[\"prediction\"] = predictions.argmax(1)\n",
        "score = f1_score(target, oof.argmax(1), average=\"macro\")\n",
        "print(\"CV score\")\n",
        "print(f\"  f1: {score:8.5f}\")\n",
        "print()\n",
        "print(classification_report(target, oof.argmax(1)))\n",
        "\n",
        "plt.figure(figsize=(12, 16))\n",
        "sns.barplot(x=\"importance\", y=\"feature\", data=df_feature_importance.sort_values(by=\"importance\", ascending=False))\n",
        "plt.title(\"feature importance\")\n",
        "plt.grid()\n",
        "plt.tight_layout()\n",
        "plt.show()"
      ],
      "metadata": {
        "id": "Hx3VCHMyUqBu",
        "colab": {
          "base_uri": "https://localhost:8080/",
          "height": 1000
        },
        "outputId": "cae364a3-df4b-4614-8974-864cba391f95"
      },
      "execution_count": 51,
      "outputs": [
        {
          "output_type": "stream",
          "name": "stdout",
          "text": [
            "CV score\n",
            "  f1:  0.66779\n",
            "\n",
            "              precision    recall  f1-score   support\n",
            "\n",
            "           0       0.83      0.62      0.71        32\n",
            "           1       0.56      0.41      0.48       205\n",
            "           2       0.70      0.59      0.64       191\n",
            "           3       0.81      0.77      0.79       362\n",
            "           4       0.67      0.64      0.66        45\n",
            "           5       0.65      0.52      0.58       126\n",
            "           6       0.51      0.38      0.44        50\n",
            "           7       0.65      0.62      0.63       334\n",
            "           8       0.73      0.80      0.76      1305\n",
            "           9       0.86      0.85      0.85        59\n",
            "          10       0.79      0.82      0.80      1337\n",
            "\n",
            "    accuracy                           0.74      4046\n",
            "   macro avg       0.71      0.64      0.67      4046\n",
            "weighted avg       0.74      0.74      0.74      4046\n",
            "\n"
          ]
        },
        {
          "output_type": "stream",
          "name": "stderr",
          "text": [
            "/usr/local/lib/python3.7/dist-packages/ipykernel_launcher.py:1: SettingWithCopyWarning: \n",
            "A value is trying to be set on a copy of a slice from a DataFrame.\n",
            "Try using .loc[row_indexer,col_indexer] = value instead\n",
            "\n",
            "See the caveats in the documentation: https://pandas.pydata.org/pandas-docs/stable/user_guide/indexing.html#returning-a-view-versus-a-copy\n",
            "  \"\"\"Entry point for launching an IPython kernel.\n"
          ]
        },
        {
          "output_type": "display_data",
          "data": {
            "text/plain": [
              "<Figure size 864x1152 with 1 Axes>"
            ],
            "image/png": "[encoded data removed]"
          },
          "metadata": {
            "needs_background": "light"
          }
        }
      ]
    },
    {
      "cell_type": "code",
      "source": [
        "def visualize_confusion_matrix(y_true,\n",
        "                               pred_label,\n",
        "                               height=.6,\n",
        "                               labels=None):  # from https://signate.jp/competitions/449/discussions/lgbm-baseline-lb06240\n",
        "    conf = confusion_matrix(y_true=y_true,\n",
        "                            y_pred=pred_label,\n",
        "                            normalize='true')\n",
        "\n",
        "    n_labels = len(conf)\n",
        "    size = n_labels * height\n",
        "    fig, ax = plt.subplots(figsize=(size * 2, size * 1.5))\n",
        "    sns.heatmap(conf, cmap='YlOrBr', ax=ax, annot=True, fmt='.2f')\n",
        "    ax.set_ylabel('Label')\n",
        "    ax.set_xlabel('Predict')\n",
        "\n",
        "    if labels is not None:\n",
        "        ax.set_yticklabels(labels)\n",
        "        ax.set_xticklabels(labels)\n",
        "        ax.tick_params('y', labelrotation=0)\n",
        "        ax.tick_params('x', labelrotation=90)\n",
        "\n",
        "    return fig\n",
        "\n",
        "oof_label = pd.Series(np.argmax(oof, axis=1))\n",
        "fig = visualize_confusion_matrix(y_true=target, pred_label=oof_label, labels=df_genre_labels[\"genre\"])\n",
        "fig.show()"
      ],
      "metadata": {
        "id": "n4WEdNt6Utqe",
        "colab": {
          "base_uri": "https://localhost:8080/",
          "height": 675
        },
        "outputId": "73daa576-73fa-42bf-919d-8e29488aaf21"
      },
      "execution_count": 52,
      "outputs": [
        {
          "output_type": "display_data",
          "data": {
            "text/plain": [
              "<Figure size 950.4x712.8 with 2 Axes>"
            ],
            "image/png": "[encoded data removed]"
          },
          "metadata": {
            "needs_background": "light"
          }
        }
      ]
    },
    {
      "cell_type": "markdown",
      "source": [
        "#サブミット"
      ],
      "metadata": {
        "id": "Z8LQdcJ1Sux_"
      }
    },
    {
      "cell_type": "code",
      "source": [
        "df_submission = df_sample_sub.copy()\n",
        "df_submission[\"genre\"] = df_submission[\"index\"].map(dict(df_test[[\"index\", \"prediction\"]].values))\n",
        "assert not df_submission[\"genre\"].isna().any()\n",
        "display(df_submission.head(10))\n",
        "\n",
        "# make submission file\n",
        "df_submission.to_csv(\"submit-lgbm+kNN-cv5+pop10*region+GMM-2-hm.csv\", header=None, index=False)"
      ],
      "metadata": {
        "id": "VwkG6ZY0UwYu",
        "colab": {
          "base_uri": "https://localhost:8080/",
          "height": 363
        },
        "outputId": "42e13788-b169-453b-e4f2-b5b63e5fc305"
      },
      "execution_count": 53,
      "outputs": [
        {
          "output_type": "display_data",
          "data": {
            "text/plain": [
              "   index  genre\n",
              "0   4046      7\n",
              "1   4047     10\n",
              "2   4048     10\n",
              "3   4049      8\n",
              "4   4050      8\n",
              "5   4051      7\n",
              "6   4052      8\n",
              "7   4053      8\n",
              "8   4054      3\n",
              "9   4055     10"
            ],
            "text/html": [
              "\n",
              "  <div id=\"df-a7b0ca5f-a2d3-44b6-b5e1-04c00d503ef4\">\n",
              "    <div class=\"colab-df-container\">\n",
              "      <div>\n",
              "<style scoped>\n",
              "    .dataframe tbody tr th:only-of-type {\n",
              "        vertical-align: middle;\n",
              "    }\n",
              "\n",
              "    .dataframe tbody tr th {\n",
              "        vertical-align: top;\n",
              "    }\n",
              "\n",
              "    .dataframe thead th {\n",
              "        text-align: right;\n",
              "    }\n",
              "</style>\n",
              "<table border=\"1\" class=\"dataframe\">\n",
              "  <thead>\n",
              "    <tr style=\"text-align: right;\">\n",
              "      <th></th>\n",
              "      <th>index</th>\n",
              "      <th>genre</th>\n",
              "    </tr>\n",
              "  </thead>\n",
              "  <tbody>\n",
              "    <tr>\n",
              "      <th>0</th>\n",
              "      <td>4046</td>\n",
              "      <td>7</td>\n",
              "    </tr>\n",
              "    <tr>\n",
              "      <th>1</th>\n",
              "      <td>4047</td>\n",
              "      <td>10</td>\n",
              "    </tr>\n",
              "    <tr>\n",
              "      <th>2</th>\n",
              "      <td>4048</td>\n",
              "      <td>10</td>\n",
              "    </tr>\n",
              "    <tr>\n",
              "      <th>3</th>\n",
              "      <td>4049</td>\n",
              "      <td>8</td>\n",
              "    </tr>\n",
              "    <tr>\n",
              "      <th>4</th>\n",
              "      <td>4050</td>\n",
              "      <td>8</td>\n",
              "    </tr>\n",
              "    <tr>\n",
              "      <th>5</th>\n",
              "      <td>4051</td>\n",
              "      <td>7</td>\n",
              "    </tr>\n",
              "    <tr>\n",
              "      <th>6</th>\n",
              "      <td>4052</td>\n",
              "      <td>8</td>\n",
              "    </tr>\n",
              "    <tr>\n",
              "      <th>7</th>\n",
              "      <td>4053</td>\n",
              "      <td>8</td>\n",
              "    </tr>\n",
              "    <tr>\n",
              "      <th>8</th>\n",
              "      <td>4054</td>\n",
              "      <td>3</td>\n",
              "    </tr>\n",
              "    <tr>\n",
              "      <th>9</th>\n",
              "      <td>4055</td>\n",
              "      <td>10</td>\n",
              "    </tr>\n",
              "  </tbody>\n",
              "</table>\n",
              "</div>\n",
              "      <button class=\"colab-df-convert\" onclick=\"convertToInteractive('df-a7b0ca5f-a2d3-44b6-b5e1-04c00d503ef4')\"\n",
              "              title=\"Convert this dataframe to an interactive table.\"\n",
              "              style=\"display:none;\">\n",
              "        \n",
              "  <svg xmlns=\"http://www.w3.org/2000/svg\" height=\"24px\"viewBox=\"0 0 24 24\"\n",
              "       width=\"24px\">\n",
              "    <path d=\"M0 0h24v24H0V0z\" fill=\"none\"/>\n",
              "    <path d=\"M18.56 5.44l.94 2.06.94-2.06 2.06-.94-2.06-.94-.94-2.06-.94 2.06-2.06.94zm-11 1L8.5 8.5l.94-2.06 2.06-.94-2.06-.94L8.5 2.5l-.94 2.06-2.06.94zm10 10l.94 2.06.94-2.06 2.06-.94-2.06-.94-.94-2.06-.94 2.06-2.06.94z\"/><path d=\"M17.41 7.96l-1.37-1.37c-.4-.4-.92-.59-1.43-.59-.52 0-1.04.2-1.43.59L10.3 9.45l-7.72 7.72c-.78.78-.78 2.05 0 2.83L4 21.41c.39.39.9.59 1.41.59.51 0 1.02-.2 1.41-.59l7.78-7.78 2.81-2.81c.8-.78.8-2.07 0-2.86zM5.41 20L4 18.59l7.72-7.72 1.47 1.35L5.41 20z\"/>\n",
              "  </svg>\n",
              "      </button>\n",
              "      \n",
              "  <style>\n",
              "    .colab-df-container {\n",
              "      display:flex;\n",
              "      flex-wrap:wrap;\n",
              "      gap: 12px;\n",
              "    }\n",
              "\n",
              "    .colab-df-convert {\n",
              "      background-color: #E8F0FE;\n",
              "      border: none;\n",
              "      border-radius: 50%;\n",
              "      cursor: pointer;\n",
              "      display: none;\n",
              "      fill: #1967D2;\n",
              "      height: 32px;\n",
              "      padding: 0 0 0 0;\n",
              "      width: 32px;\n",
              "    }\n",
              "\n",
              "    .colab-df-convert:hover {\n",
              "      background-color: #E2EBFA;\n",
              "      box-shadow: 0px 1px 2px rgba(60, 64, 67, 0.3), 0px 1px 3px 1px rgba(60, 64, 67, 0.15);\n",
              "      fill: #174EA6;\n",
              "    }\n",
              "\n",
              "    [theme=dark] .colab-df-convert {\n",
              "      background-color: #3B4455;\n",
              "      fill: #D2E3FC;\n",
              "    }\n",
              "\n",
              "    [theme=dark] .colab-df-convert:hover {\n",
              "      background-color: #434B5C;\n",
              "      box-shadow: 0px 1px 3px 1px rgba(0, 0, 0, 0.15);\n",
              "      filter: drop-shadow(0px 1px 2px rgba(0, 0, 0, 0.3));\n",
              "      fill: #FFFFFF;\n",
              "    }\n",
              "  </style>\n",
              "\n",
              "      <script>\n",
              "        const buttonEl =\n",
              "          document.querySelector('#df-a7b0ca5f-a2d3-44b6-b5e1-04c00d503ef4 button.colab-df-convert');\n",
              "        buttonEl.style.display =\n",
              "          google.colab.kernel.accessAllowed ? 'block' : 'none';\n",
              "\n",
              "        async function convertToInteractive(key) {\n",
              "          const element = document.querySelector('#df-a7b0ca5f-a2d3-44b6-b5e1-04c00d503ef4');\n",
              "          const dataTable =\n",
              "            await google.colab.kernel.invokeFunction('convertToInteractive',\n",
              "                                                     [key], {});\n",
              "          if (!dataTable) return;\n",
              "\n",
              "          const docLinkHtml = 'Like what you see? Visit the ' +\n",
              "            '<a target=\"_blank\" href=https://colab.research.google.com/notebooks/data_table.ipynb>data table notebook</a>'\n",
              "            + ' to learn more about interactive tables.';\n",
              "          element.innerHTML = '';\n",
              "          dataTable['output_type'] = 'display_data';\n",
              "          await google.colab.output.renderOutput(dataTable, element);\n",
              "          const docLink = document.createElement('div');\n",
              "          docLink.innerHTML = docLinkHtml;\n",
              "          element.appendChild(docLink);\n",
              "        }\n",
              "      </script>\n",
              "    </div>\n",
              "  </div>\n",
              "  "
            ]
          },
          "metadata": {}
        }
      ]
    },
    {
      "cell_type": "code",
      "source": [
        "! signate submit -c 565 -n \"lgbm+kNN cv5 neibor=10 pop10*region + feature//10 cv + //target count encoding// + GMM at each validation as hearmonic mean\" submit-lgbm+kNN-cv5+pop10*region+GMM-2-hm.csv"
      ],
      "metadata": {
        "id": "5n6EDQUDSt3f",
        "colab": {
          "base_uri": "https://localhost:8080/"
        },
        "outputId": "459f5b03-5aca-4576-8996-fcebd27a6bef"
      },
      "execution_count": 54,
      "outputs": [
        {
          "output_type": "stream",
          "name": "stdout",
          "text": [
            "\u001b[32mYou have successfully submitted your predictions.We will send you the submission result to your email address.\u001b[0m\n"
          ]
        }
      ]
    }
  ]
}